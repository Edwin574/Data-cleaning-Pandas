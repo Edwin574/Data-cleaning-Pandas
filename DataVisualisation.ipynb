{
 "cells": [
  {
   "cell_type": "code",
   "execution_count": null,
   "metadata": {},
   "outputs": [],
   "source": [
    "import pandas as pd\n",
    "import matplotlib.pyplot as plt"
   ]
  },
  {
   "cell_type": "markdown",
   "metadata": {},
   "source": [
    "using an arbitrary set of values to plot graphs and scatter plots"
   ]
  },
  {
   "cell_type": "code",
   "execution_count": null,
   "metadata": {},
   "outputs": [],
   "source": [
    "squares = [1,4,9,16,25,36,49]\n",
    "plt.plot(squares)\n",
    "plt.show()\n"
   ]
  },
  {
   "cell_type": "code",
   "execution_count": null,
   "metadata": {},
   "outputs": [],
   "source": [
    "plt.plot(squares,linewidth=5)\n",
    "plt.title('GRAPH FOR SQUARES',fontsize=16,pad=15)\n",
    "plt.xlabel('SQUARES',fontsize=14)\n",
    "plt.ylabel('NUMBERS',fontsize=14)\n",
    "plt.tick_params(axis='both',labelsize=15)\n",
    "\n",
    "input_values=[0,1,2,3,4,5,6]\n",
    "plt.plot(input_values,squares,linewidth=5)\n"
   ]
  },
  {
   "cell_type": "code",
   "execution_count": null,
   "metadata": {},
   "outputs": [],
   "source": [
    "x_values=[1,2,3,4,5]\n",
    "y_values=[1,4,9,16,25]\n",
    "\n",
    "plt.scatter(x_values,y_values,s=100)"
   ]
  },
  {
   "cell_type": "code",
   "execution_count": null,
   "metadata": {},
   "outputs": [],
   "source": [
    "x_values=list(range(1,1001))\n",
    "y_values=[x*x for x in x_values]\n",
    "\n",
    "plt.scatter(x_values,y_values,s=40)\n",
    "# plt.scatter(x_values,y_values,edgecolors='none',s=40)\n",
    "plt.scatter(x_values,y_values,c='red',edgecolors='none',s=40)\n",
    "\n"
   ]
  },
  {
   "cell_type": "code",
   "execution_count": null,
   "metadata": {},
   "outputs": [],
   "source": [
    "x_values=list(range(1000))\n",
    "y_values=[x*x for x in x_values]\n",
    "\n",
    "plt.scatter(x_values,y_values,s=40)\n",
    "# plt.scatter(x_values,y_values,edgecolors='none',s=40)\n",
    "plt.scatter(x_values,y_values,c=y_values,cmap=plt.cm.Blues,edgecolors='none',s=40)\n",
    "plt.savefig('squares_plot.jpg',bbox_inches='tight')\n",
    "\n",
    "plt.style.use('ggplot')\n",
    "plt.plot([1,2,3,4,5,6],[1,4,9,16,25,36])\n"
   ]
  },
  {
   "cell_type": "code",
   "execution_count": null,
   "metadata": {},
   "outputs": [],
   "source": [
    "plt.style.use('fivethirtyeight')\n",
    "plt.plot([1,2,3,4,5,6],[1,4,9,16,25,36])"
   ]
  },
  {
   "cell_type": "code",
   "execution_count": null,
   "metadata": {},
   "outputs": [],
   "source": [
    "with plt.style.context('dark_background'): #changing the background of the graph\n",
    "    plt.plot([1,2,3,4,5,6],[1,4,9,16,25,36])\n",
    "    plt.show()"
   ]
  }
 ],
 "metadata": {
  "kernelspec": {
   "display_name": "Python 3.9.12 ('base')",
   "language": "python",
   "name": "python3"
  },
  "language_info": {
   "codemirror_mode": {
    "name": "ipython",
    "version": 3
   },
   "file_extension": ".py",
   "mimetype": "text/x-python",
   "name": "python",
   "nbconvert_exporter": "python",
   "pygments_lexer": "ipython3",
   "version": "3.9.12"
  },
  "orig_nbformat": 4,
  "vscode": {
   "interpreter": {
    "hash": "b0110ce229cb207ddb9b0dff5e36830f20fa7483e4a3a6d9ec374c321c26f348"
   }
  }
 },
 "nbformat": 4,
 "nbformat_minor": 2
}
