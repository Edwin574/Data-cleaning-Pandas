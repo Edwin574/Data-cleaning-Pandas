{
 "cells": [
  {
   "cell_type": "markdown",
   "metadata": {
    "id": "AzLPOliHYP0V"
   },
   "source": [
    "# Data Analysis with Python"
   ]
  },
  {
   "cell_type": "markdown",
   "metadata": {
    "id": "p5-vSSK2YRvv"
   },
   "source": [
    "## Pre-requisites"
   ]
  },
  {
   "cell_type": "code",
   "execution_count": 3,
   "metadata": {
    "id": "7KgwSnDfYDoq"
   },
   "outputs": [],
   "source": [
    "# Pre-requisite 1\n",
    "# ---\n",
    "# Importing pandas library for data manipulation\n",
    "# ---\n",
    "# OUR CODE GOES BELOW\n",
    "# \n",
    "import pandas as pd"
   ]
  },
  {
   "cell_type": "code",
   "execution_count": 4,
   "metadata": {
    "id": "qUUHs9KPYUh_"
   },
   "outputs": [],
   "source": [
    "# Pre-requisite 2\n",
    "# ---\n",
    "# Importing numpy library for scientific computations\n",
    "# ---\n",
    "# OUR CODE GOES BELOW\n",
    "# \n",
    "import numpy as np"
   ]
  },
  {
   "cell_type": "markdown",
   "metadata": {
    "id": "AKFUFX9oYYlz"
   },
   "source": [
    "## 1. Data Exploration"
   ]
  },
  {
   "cell_type": "markdown",
   "metadata": {
    "id": "8qPMH6tKZQCL"
   },
   "source": [
    "### Examples"
   ]
  },
  {
   "cell_type": "code",
   "execution_count": 5,
   "metadata": {
    "id": "mO6NfKbVYrCd"
   },
   "outputs": [
    {
     "data": {
      "text/html": [
       "<div>\n",
       "<style scoped>\n",
       "    .dataframe tbody tr th:only-of-type {\n",
       "        vertical-align: middle;\n",
       "    }\n",
       "\n",
       "    .dataframe tbody tr th {\n",
       "        vertical-align: top;\n",
       "    }\n",
       "\n",
       "    .dataframe thead th {\n",
       "        text-align: right;\n",
       "    }\n",
       "</style>\n",
       "<table border=\"1\" class=\"dataframe\">\n",
       "  <thead>\n",
       "    <tr style=\"text-align: right;\">\n",
       "      <th></th>\n",
       "      <th>Country</th>\n",
       "      <th>Month</th>\n",
       "      <th>Year</th>\n",
       "      <th>Lat</th>\n",
       "      <th>Lon</th>\n",
       "      <th>Value</th>\n",
       "    </tr>\n",
       "  </thead>\n",
       "  <tbody>\n",
       "    <tr>\n",
       "      <th>0</th>\n",
       "      <td>Guinea</td>\n",
       "      <td>3</td>\n",
       "      <td>14</td>\n",
       "      <td>9.95</td>\n",
       "      <td>-9.7</td>\n",
       "      <td>122.0</td>\n",
       "    </tr>\n",
       "    <tr>\n",
       "      <th>1</th>\n",
       "      <td>Guinea</td>\n",
       "      <td>4</td>\n",
       "      <td>14</td>\n",
       "      <td>9.95</td>\n",
       "      <td>-9.7</td>\n",
       "      <td>224.0</td>\n",
       "    </tr>\n",
       "    <tr>\n",
       "      <th>2</th>\n",
       "      <td>Guinea</td>\n",
       "      <td>5</td>\n",
       "      <td>14</td>\n",
       "      <td>9.95</td>\n",
       "      <td>-9.7</td>\n",
       "      <td>291.0</td>\n",
       "    </tr>\n",
       "    <tr>\n",
       "      <th>3</th>\n",
       "      <td>Guinea</td>\n",
       "      <td>6</td>\n",
       "      <td>14</td>\n",
       "      <td>9.95</td>\n",
       "      <td>-9.7</td>\n",
       "      <td>413.0</td>\n",
       "    </tr>\n",
       "    <tr>\n",
       "      <th>4</th>\n",
       "      <td>Guinea</td>\n",
       "      <td>7</td>\n",
       "      <td>14</td>\n",
       "      <td>9.95</td>\n",
       "      <td>-9.7</td>\n",
       "      <td>460.0</td>\n",
       "    </tr>\n",
       "    <tr>\n",
       "      <th>5</th>\n",
       "      <td>Guinea</td>\n",
       "      <td>8</td>\n",
       "      <td>14</td>\n",
       "      <td>9.95</td>\n",
       "      <td>-9.7</td>\n",
       "      <td>771.0</td>\n",
       "    </tr>\n",
       "    <tr>\n",
       "      <th>6</th>\n",
       "      <td>Guinea</td>\n",
       "      <td>9</td>\n",
       "      <td>14</td>\n",
       "      <td>9.95</td>\n",
       "      <td>-9.7</td>\n",
       "      <td>1022.0</td>\n",
       "    </tr>\n",
       "    <tr>\n",
       "      <th>7</th>\n",
       "      <td>Guinea</td>\n",
       "      <td>10</td>\n",
       "      <td>14</td>\n",
       "      <td>9.95</td>\n",
       "      <td>-9.7</td>\n",
       "      <td>NaN</td>\n",
       "    </tr>\n",
       "    <tr>\n",
       "      <th>8</th>\n",
       "      <td>Guinea</td>\n",
       "      <td>11</td>\n",
       "      <td>14</td>\n",
       "      <td>9.95</td>\n",
       "      <td>-9.7</td>\n",
       "      <td>NaN</td>\n",
       "    </tr>\n",
       "    <tr>\n",
       "      <th>9</th>\n",
       "      <td>Guinea</td>\n",
       "      <td>12</td>\n",
       "      <td>14</td>\n",
       "      <td>9.95</td>\n",
       "      <td>-9.7</td>\n",
       "      <td>NaN</td>\n",
       "    </tr>\n",
       "  </tbody>\n",
       "</table>\n",
       "</div>"
      ],
      "text/plain": [
       "  Country  Month  Year   Lat  Lon   Value\n",
       "0  Guinea      3    14  9.95 -9.7   122.0\n",
       "1  Guinea      4    14  9.95 -9.7   224.0\n",
       "2  Guinea      5    14  9.95 -9.7   291.0\n",
       "3  Guinea      6    14  9.95 -9.7   413.0\n",
       "4  Guinea      7    14  9.95 -9.7   460.0\n",
       "5  Guinea      8    14  9.95 -9.7   771.0\n",
       "6  Guinea      9    14  9.95 -9.7  1022.0\n",
       "7  Guinea     10    14  9.95 -9.7     NaN\n",
       "8  Guinea     11    14  9.95 -9.7     NaN\n",
       "9  Guinea     12    14  9.95 -9.7     NaN"
      ]
     },
     "execution_count": 5,
     "metadata": {},
     "output_type": "execute_result"
    }
   ],
   "source": [
    "# Viewing top records of the dataset\n",
    "# ---\n",
    "# You have been given the following dataset on Ebola cases.\n",
    "# Let's preview the first 10 rows.\n",
    "# ---\n",
    "# Dataset url = https://bit.ly/2T60DKG\n",
    "# \n",
    "ebola_df = pd.read_csv('https://bit.ly/2T60DKG')\n",
    "ebola_df.head(10)"
   ]
  },
  {
   "cell_type": "code",
   "execution_count": 6,
   "metadata": {
    "id": "_-q9fhfTZRhK"
   },
   "outputs": [
    {
     "data": {
      "text/html": [
       "<div>\n",
       "<style scoped>\n",
       "    .dataframe tbody tr th:only-of-type {\n",
       "        vertical-align: middle;\n",
       "    }\n",
       "\n",
       "    .dataframe tbody tr th {\n",
       "        vertical-align: top;\n",
       "    }\n",
       "\n",
       "    .dataframe thead th {\n",
       "        text-align: right;\n",
       "    }\n",
       "</style>\n",
       "<table border=\"1\" class=\"dataframe\">\n",
       "  <thead>\n",
       "    <tr style=\"text-align: right;\">\n",
       "      <th></th>\n",
       "      <th>Country</th>\n",
       "      <th>Month</th>\n",
       "      <th>Year</th>\n",
       "      <th>Lat</th>\n",
       "      <th>Lon</th>\n",
       "      <th>Value</th>\n",
       "    </tr>\n",
       "  </thead>\n",
       "  <tbody>\n",
       "    <tr>\n",
       "      <th>21</th>\n",
       "      <td>Senegal</td>\n",
       "      <td>8</td>\n",
       "      <td>14</td>\n",
       "      <td>14.50</td>\n",
       "      <td>-14.45</td>\n",
       "      <td>1.0</td>\n",
       "    </tr>\n",
       "    <tr>\n",
       "      <th>22</th>\n",
       "      <td>Senegal</td>\n",
       "      <td>9</td>\n",
       "      <td>14</td>\n",
       "      <td>14.50</td>\n",
       "      <td>-14.45</td>\n",
       "      <td>3.0</td>\n",
       "    </tr>\n",
       "    <tr>\n",
       "      <th>23</th>\n",
       "      <td>Sierra Leone</td>\n",
       "      <td>5</td>\n",
       "      <td>14</td>\n",
       "      <td>8.46</td>\n",
       "      <td>-11.78</td>\n",
       "      <td>50.0</td>\n",
       "    </tr>\n",
       "    <tr>\n",
       "      <th>24</th>\n",
       "      <td>Sierra Leone</td>\n",
       "      <td>6</td>\n",
       "      <td>14</td>\n",
       "      <td>8.46</td>\n",
       "      <td>-11.78</td>\n",
       "      <td>239.0</td>\n",
       "    </tr>\n",
       "    <tr>\n",
       "      <th>25</th>\n",
       "      <td>Sierra Leone</td>\n",
       "      <td>7</td>\n",
       "      <td>14</td>\n",
       "      <td>8.46</td>\n",
       "      <td>-11.78</td>\n",
       "      <td>533.0</td>\n",
       "    </tr>\n",
       "    <tr>\n",
       "      <th>26</th>\n",
       "      <td>Sierra Leone</td>\n",
       "      <td>8</td>\n",
       "      <td>14</td>\n",
       "      <td>8.46</td>\n",
       "      <td>-11.78</td>\n",
       "      <td>1216.0</td>\n",
       "    </tr>\n",
       "    <tr>\n",
       "      <th>27</th>\n",
       "      <td>Sierra Leone</td>\n",
       "      <td>9</td>\n",
       "      <td>14</td>\n",
       "      <td>8.46</td>\n",
       "      <td>-11.78</td>\n",
       "      <td>1940.0</td>\n",
       "    </tr>\n",
       "    <tr>\n",
       "      <th>28</th>\n",
       "      <td>Sierra Leone</td>\n",
       "      <td>10</td>\n",
       "      <td>14</td>\n",
       "      <td>8.46</td>\n",
       "      <td>-11.78</td>\n",
       "      <td>NaN</td>\n",
       "    </tr>\n",
       "    <tr>\n",
       "      <th>29</th>\n",
       "      <td>Sierra Leone</td>\n",
       "      <td>11</td>\n",
       "      <td>14</td>\n",
       "      <td>8.46</td>\n",
       "      <td>-11.78</td>\n",
       "      <td>NaN</td>\n",
       "    </tr>\n",
       "    <tr>\n",
       "      <th>30</th>\n",
       "      <td>Sierra Leone</td>\n",
       "      <td>12</td>\n",
       "      <td>14</td>\n",
       "      <td>8.46</td>\n",
       "      <td>-11.78</td>\n",
       "      <td>NaN</td>\n",
       "    </tr>\n",
       "  </tbody>\n",
       "</table>\n",
       "</div>"
      ],
      "text/plain": [
       "         Country  Month  Year    Lat    Lon   Value\n",
       "21       Senegal      8    14  14.50 -14.45     1.0\n",
       "22       Senegal      9    14  14.50 -14.45     3.0\n",
       "23  Sierra Leone      5    14   8.46 -11.78    50.0\n",
       "24  Sierra Leone      6    14   8.46 -11.78   239.0\n",
       "25  Sierra Leone      7    14   8.46 -11.78   533.0\n",
       "26  Sierra Leone      8    14   8.46 -11.78  1216.0\n",
       "27  Sierra Leone      9    14   8.46 -11.78  1940.0\n",
       "28  Sierra Leone     10    14   8.46 -11.78     NaN\n",
       "29  Sierra Leone     11    14   8.46 -11.78     NaN\n",
       "30  Sierra Leone     12    14   8.46 -11.78     NaN"
      ]
     },
     "execution_count": 6,
     "metadata": {},
     "output_type": "execute_result"
    }
   ],
   "source": [
    "# Viewing last records of the dataset\n",
    "# ---\n",
    "# Preview the last 10 records of the ebola dataset\n",
    "# ---\n",
    "# \n",
    "last_ebola_df = ebola_df.tail(10)\n",
    "last_ebola_df"
   ]
  },
  {
   "cell_type": "code",
   "execution_count": 7,
   "metadata": {
    "id": "sJVRps4pZRXm"
   },
   "outputs": [
    {
     "data": {
      "text/html": [
       "<div>\n",
       "<style scoped>\n",
       "    .dataframe tbody tr th:only-of-type {\n",
       "        vertical-align: middle;\n",
       "    }\n",
       "\n",
       "    .dataframe tbody tr th {\n",
       "        vertical-align: top;\n",
       "    }\n",
       "\n",
       "    .dataframe thead th {\n",
       "        text-align: right;\n",
       "    }\n",
       "</style>\n",
       "<table border=\"1\" class=\"dataframe\">\n",
       "  <thead>\n",
       "    <tr style=\"text-align: right;\">\n",
       "      <th></th>\n",
       "      <th>Country</th>\n",
       "      <th>Month</th>\n",
       "      <th>Year</th>\n",
       "      <th>Lat</th>\n",
       "      <th>Lon</th>\n",
       "      <th>Value</th>\n",
       "    </tr>\n",
       "  </thead>\n",
       "  <tbody>\n",
       "    <tr>\n",
       "      <th>6</th>\n",
       "      <td>Guinea</td>\n",
       "      <td>9</td>\n",
       "      <td>14</td>\n",
       "      <td>9.95</td>\n",
       "      <td>-9.70</td>\n",
       "      <td>1022.0</td>\n",
       "    </tr>\n",
       "    <tr>\n",
       "      <th>4</th>\n",
       "      <td>Guinea</td>\n",
       "      <td>7</td>\n",
       "      <td>14</td>\n",
       "      <td>9.95</td>\n",
       "      <td>-9.70</td>\n",
       "      <td>460.0</td>\n",
       "    </tr>\n",
       "    <tr>\n",
       "      <th>9</th>\n",
       "      <td>Guinea</td>\n",
       "      <td>12</td>\n",
       "      <td>14</td>\n",
       "      <td>9.95</td>\n",
       "      <td>-9.70</td>\n",
       "      <td>NaN</td>\n",
       "    </tr>\n",
       "    <tr>\n",
       "      <th>28</th>\n",
       "      <td>Sierra Leone</td>\n",
       "      <td>10</td>\n",
       "      <td>14</td>\n",
       "      <td>8.46</td>\n",
       "      <td>-11.78</td>\n",
       "      <td>NaN</td>\n",
       "    </tr>\n",
       "    <tr>\n",
       "      <th>10</th>\n",
       "      <td>Liberia</td>\n",
       "      <td>4</td>\n",
       "      <td>14</td>\n",
       "      <td>6.43</td>\n",
       "      <td>-9.43</td>\n",
       "      <td>35.0</td>\n",
       "    </tr>\n",
       "  </tbody>\n",
       "</table>\n",
       "</div>"
      ],
      "text/plain": [
       "         Country  Month  Year   Lat    Lon   Value\n",
       "6         Guinea      9    14  9.95  -9.70  1022.0\n",
       "4         Guinea      7    14  9.95  -9.70   460.0\n",
       "9         Guinea     12    14  9.95  -9.70     NaN\n",
       "28  Sierra Leone     10    14  8.46 -11.78     NaN\n",
       "10       Liberia      4    14  6.43  -9.43    35.0"
      ]
     },
     "execution_count": 7,
     "metadata": {},
     "output_type": "execute_result"
    }
   ],
   "source": [
    "# Taking a sample\n",
    "# ---\n",
    "# Take a sample of the 5 records from the ebola dataset\n",
    "# ---\n",
    "# \n",
    "sample_ebola_df = ebola_df.sample(5)\n",
    "sample_ebola_df"
   ]
  },
  {
   "cell_type": "markdown",
   "metadata": {
    "id": "K7XZ0lfDZSfE"
   },
   "source": [
    "### <font color=\"green\">Challenges</font>"
   ]
  },
  {
   "cell_type": "code",
   "execution_count": 8,
   "metadata": {
    "id": "DnYZqcjdZZgg"
   },
   "outputs": [
    {
     "data": {
      "text/html": [
       "<div>\n",
       "<style scoped>\n",
       "    .dataframe tbody tr th:only-of-type {\n",
       "        vertical-align: middle;\n",
       "    }\n",
       "\n",
       "    .dataframe tbody tr th {\n",
       "        vertical-align: top;\n",
       "    }\n",
       "\n",
       "    .dataframe thead th {\n",
       "        text-align: right;\n",
       "    }\n",
       "</style>\n",
       "<table border=\"1\" class=\"dataframe\">\n",
       "  <thead>\n",
       "    <tr style=\"text-align: right;\">\n",
       "      <th></th>\n",
       "      <th>conterfeit</th>\n",
       "      <th>Length</th>\n",
       "      <th>Left</th>\n",
       "      <th>Right</th>\n",
       "      <th>Bottom</th>\n",
       "      <th>Top</th>\n",
       "      <th>Diagonal</th>\n",
       "    </tr>\n",
       "  </thead>\n",
       "  <tbody>\n",
       "    <tr>\n",
       "      <th>0</th>\n",
       "      <td>0</td>\n",
       "      <td>214.8</td>\n",
       "      <td>131.0</td>\n",
       "      <td>131.1</td>\n",
       "      <td>9.0</td>\n",
       "      <td>9.7</td>\n",
       "      <td>141.0</td>\n",
       "    </tr>\n",
       "    <tr>\n",
       "      <th>1</th>\n",
       "      <td>0</td>\n",
       "      <td>214.6</td>\n",
       "      <td>129.7</td>\n",
       "      <td>129.7</td>\n",
       "      <td>8.1</td>\n",
       "      <td>9.5</td>\n",
       "      <td>141.7</td>\n",
       "    </tr>\n",
       "    <tr>\n",
       "      <th>2</th>\n",
       "      <td>0</td>\n",
       "      <td>214.8</td>\n",
       "      <td>129.7</td>\n",
       "      <td>129.7</td>\n",
       "      <td>8.7</td>\n",
       "      <td>9.6</td>\n",
       "      <td>142.2</td>\n",
       "    </tr>\n",
       "    <tr>\n",
       "      <th>3</th>\n",
       "      <td>0</td>\n",
       "      <td>214.8</td>\n",
       "      <td>129.7</td>\n",
       "      <td>129.6</td>\n",
       "      <td>7.5</td>\n",
       "      <td>10.4</td>\n",
       "      <td>142.0</td>\n",
       "    </tr>\n",
       "    <tr>\n",
       "      <th>4</th>\n",
       "      <td>0</td>\n",
       "      <td>215.0</td>\n",
       "      <td>129.6</td>\n",
       "      <td>129.7</td>\n",
       "      <td>10.4</td>\n",
       "      <td>7.7</td>\n",
       "      <td>141.8</td>\n",
       "    </tr>\n",
       "    <tr>\n",
       "      <th>5</th>\n",
       "      <td>0</td>\n",
       "      <td>215.7</td>\n",
       "      <td>130.8</td>\n",
       "      <td>130.5</td>\n",
       "      <td>9.0</td>\n",
       "      <td>10.1</td>\n",
       "      <td>141.4</td>\n",
       "    </tr>\n",
       "    <tr>\n",
       "      <th>6</th>\n",
       "      <td>0</td>\n",
       "      <td>215.5</td>\n",
       "      <td>129.5</td>\n",
       "      <td>129.7</td>\n",
       "      <td>7.9</td>\n",
       "      <td>9.6</td>\n",
       "      <td>141.6</td>\n",
       "    </tr>\n",
       "    <tr>\n",
       "      <th>7</th>\n",
       "      <td>0</td>\n",
       "      <td>214.5</td>\n",
       "      <td>129.6</td>\n",
       "      <td>129.2</td>\n",
       "      <td>7.2</td>\n",
       "      <td>10.7</td>\n",
       "      <td>141.7</td>\n",
       "    </tr>\n",
       "    <tr>\n",
       "      <th>8</th>\n",
       "      <td>0</td>\n",
       "      <td>214.9</td>\n",
       "      <td>129.4</td>\n",
       "      <td>129.7</td>\n",
       "      <td>8.2</td>\n",
       "      <td>11.0</td>\n",
       "      <td>141.9</td>\n",
       "    </tr>\n",
       "    <tr>\n",
       "      <th>9</th>\n",
       "      <td>0</td>\n",
       "      <td>215.2</td>\n",
       "      <td>130.4</td>\n",
       "      <td>130.3</td>\n",
       "      <td>9.2</td>\n",
       "      <td>10.0</td>\n",
       "      <td>140.7</td>\n",
       "    </tr>\n",
       "    <tr>\n",
       "      <th>10</th>\n",
       "      <td>0</td>\n",
       "      <td>215.3</td>\n",
       "      <td>130.4</td>\n",
       "      <td>130.3</td>\n",
       "      <td>7.9</td>\n",
       "      <td>11.7</td>\n",
       "      <td>141.8</td>\n",
       "    </tr>\n",
       "    <tr>\n",
       "      <th>11</th>\n",
       "      <td>0</td>\n",
       "      <td>215.1</td>\n",
       "      <td>129.5</td>\n",
       "      <td>129.6</td>\n",
       "      <td>7.7</td>\n",
       "      <td>10.5</td>\n",
       "      <td>142.2</td>\n",
       "    </tr>\n",
       "    <tr>\n",
       "      <th>12</th>\n",
       "      <td>0</td>\n",
       "      <td>215.2</td>\n",
       "      <td>130.8</td>\n",
       "      <td>129.6</td>\n",
       "      <td>7.9</td>\n",
       "      <td>10.8</td>\n",
       "      <td>141.4</td>\n",
       "    </tr>\n",
       "    <tr>\n",
       "      <th>13</th>\n",
       "      <td>0</td>\n",
       "      <td>214.7</td>\n",
       "      <td>129.7</td>\n",
       "      <td>129.7</td>\n",
       "      <td>7.7</td>\n",
       "      <td>10.9</td>\n",
       "      <td>141.7</td>\n",
       "    </tr>\n",
       "    <tr>\n",
       "      <th>14</th>\n",
       "      <td>0</td>\n",
       "      <td>215.1</td>\n",
       "      <td>129.9</td>\n",
       "      <td>129.7</td>\n",
       "      <td>7.7</td>\n",
       "      <td>10.8</td>\n",
       "      <td>141.8</td>\n",
       "    </tr>\n",
       "    <tr>\n",
       "      <th>15</th>\n",
       "      <td>0</td>\n",
       "      <td>214.5</td>\n",
       "      <td>129.8</td>\n",
       "      <td>129.8</td>\n",
       "      <td>9.3</td>\n",
       "      <td>8.5</td>\n",
       "      <td>141.6</td>\n",
       "    </tr>\n",
       "    <tr>\n",
       "      <th>16</th>\n",
       "      <td>0</td>\n",
       "      <td>214.6</td>\n",
       "      <td>129.9</td>\n",
       "      <td>130.1</td>\n",
       "      <td>8.2</td>\n",
       "      <td>9.8</td>\n",
       "      <td>141.7</td>\n",
       "    </tr>\n",
       "    <tr>\n",
       "      <th>17</th>\n",
       "      <td>0</td>\n",
       "      <td>215.0</td>\n",
       "      <td>129.9</td>\n",
       "      <td>129.7</td>\n",
       "      <td>9.0</td>\n",
       "      <td>9.0</td>\n",
       "      <td>141.9</td>\n",
       "    </tr>\n",
       "    <tr>\n",
       "      <th>18</th>\n",
       "      <td>0</td>\n",
       "      <td>215.2</td>\n",
       "      <td>129.6</td>\n",
       "      <td>129.6</td>\n",
       "      <td>7.4</td>\n",
       "      <td>11.5</td>\n",
       "      <td>141.5</td>\n",
       "    </tr>\n",
       "    <tr>\n",
       "      <th>19</th>\n",
       "      <td>0</td>\n",
       "      <td>214.7</td>\n",
       "      <td>130.2</td>\n",
       "      <td>129.9</td>\n",
       "      <td>8.6</td>\n",
       "      <td>10.0</td>\n",
       "      <td>141.9</td>\n",
       "    </tr>\n",
       "  </tbody>\n",
       "</table>\n",
       "</div>"
      ],
      "text/plain": [
       "    conterfeit  Length   Left  Right  Bottom   Top  Diagonal\n",
       "0            0   214.8  131.0  131.1     9.0   9.7     141.0\n",
       "1            0   214.6  129.7  129.7     8.1   9.5     141.7\n",
       "2            0   214.8  129.7  129.7     8.7   9.6     142.2\n",
       "3            0   214.8  129.7  129.6     7.5  10.4     142.0\n",
       "4            0   215.0  129.6  129.7    10.4   7.7     141.8\n",
       "5            0   215.7  130.8  130.5     9.0  10.1     141.4\n",
       "6            0   215.5  129.5  129.7     7.9   9.6     141.6\n",
       "7            0   214.5  129.6  129.2     7.2  10.7     141.7\n",
       "8            0   214.9  129.4  129.7     8.2  11.0     141.9\n",
       "9            0   215.2  130.4  130.3     9.2  10.0     140.7\n",
       "10           0   215.3  130.4  130.3     7.9  11.7     141.8\n",
       "11           0   215.1  129.5  129.6     7.7  10.5     142.2\n",
       "12           0   215.2  130.8  129.6     7.9  10.8     141.4\n",
       "13           0   214.7  129.7  129.7     7.7  10.9     141.7\n",
       "14           0   215.1  129.9  129.7     7.7  10.8     141.8\n",
       "15           0   214.5  129.8  129.8     9.3   8.5     141.6\n",
       "16           0   214.6  129.9  130.1     8.2   9.8     141.7\n",
       "17           0   215.0  129.9  129.7     9.0   9.0     141.9\n",
       "18           0   215.2  129.6  129.6     7.4  11.5     141.5\n",
       "19           0   214.7  130.2  129.9     8.6  10.0     141.9"
      ]
     },
     "execution_count": 8,
     "metadata": {},
     "output_type": "execute_result"
    }
   ],
   "source": [
    "# Challenge 1\n",
    "# ---\n",
    "# View the first 20 records of the given banknotes dataset \n",
    "# ---\n",
    "# Dataset url = https://bit.ly/2yT9oAU\n",
    "# ---\n",
    "# OUR CODE GOES BELOW\n",
    "# \n",
    "banknotes= pd.read_csv('https://bit.ly/2yT9oAU')\n",
    "banknotes.head(20)"
   ]
  },
  {
   "cell_type": "code",
   "execution_count": 9,
   "metadata": {
    "id": "nw1IjmUZZaA2"
   },
   "outputs": [
    {
     "data": {
      "text/html": [
       "<div>\n",
       "<style scoped>\n",
       "    .dataframe tbody tr th:only-of-type {\n",
       "        vertical-align: middle;\n",
       "    }\n",
       "\n",
       "    .dataframe tbody tr th {\n",
       "        vertical-align: top;\n",
       "    }\n",
       "\n",
       "    .dataframe thead th {\n",
       "        text-align: right;\n",
       "    }\n",
       "</style>\n",
       "<table border=\"1\" class=\"dataframe\">\n",
       "  <thead>\n",
       "    <tr style=\"text-align: right;\">\n",
       "      <th></th>\n",
       "      <th>conterfeit</th>\n",
       "      <th>Length</th>\n",
       "      <th>Left</th>\n",
       "      <th>Right</th>\n",
       "      <th>Bottom</th>\n",
       "      <th>Top</th>\n",
       "      <th>Diagonal</th>\n",
       "    </tr>\n",
       "  </thead>\n",
       "  <tbody>\n",
       "    <tr>\n",
       "      <th>195</th>\n",
       "      <td>1</td>\n",
       "      <td>215.0</td>\n",
       "      <td>130.4</td>\n",
       "      <td>130.3</td>\n",
       "      <td>9.9</td>\n",
       "      <td>12.1</td>\n",
       "      <td>139.6</td>\n",
       "    </tr>\n",
       "    <tr>\n",
       "      <th>196</th>\n",
       "      <td>1</td>\n",
       "      <td>215.1</td>\n",
       "      <td>130.3</td>\n",
       "      <td>129.9</td>\n",
       "      <td>10.3</td>\n",
       "      <td>11.5</td>\n",
       "      <td>139.7</td>\n",
       "    </tr>\n",
       "    <tr>\n",
       "      <th>197</th>\n",
       "      <td>1</td>\n",
       "      <td>214.8</td>\n",
       "      <td>130.3</td>\n",
       "      <td>130.4</td>\n",
       "      <td>10.6</td>\n",
       "      <td>11.1</td>\n",
       "      <td>140.0</td>\n",
       "    </tr>\n",
       "    <tr>\n",
       "      <th>198</th>\n",
       "      <td>1</td>\n",
       "      <td>214.7</td>\n",
       "      <td>130.7</td>\n",
       "      <td>130.8</td>\n",
       "      <td>11.2</td>\n",
       "      <td>11.2</td>\n",
       "      <td>139.4</td>\n",
       "    </tr>\n",
       "    <tr>\n",
       "      <th>199</th>\n",
       "      <td>1</td>\n",
       "      <td>214.3</td>\n",
       "      <td>129.9</td>\n",
       "      <td>129.9</td>\n",
       "      <td>10.2</td>\n",
       "      <td>11.5</td>\n",
       "      <td>139.6</td>\n",
       "    </tr>\n",
       "  </tbody>\n",
       "</table>\n",
       "</div>"
      ],
      "text/plain": [
       "     conterfeit  Length   Left  Right  Bottom   Top  Diagonal\n",
       "195           1   215.0  130.4  130.3     9.9  12.1     139.6\n",
       "196           1   215.1  130.3  129.9    10.3  11.5     139.7\n",
       "197           1   214.8  130.3  130.4    10.6  11.1     140.0\n",
       "198           1   214.7  130.7  130.8    11.2  11.2     139.4\n",
       "199           1   214.3  129.9  129.9    10.2  11.5     139.6"
      ]
     },
     "execution_count": 9,
     "metadata": {},
     "output_type": "execute_result"
    }
   ],
   "source": [
    "# Challenge 2\n",
    "# ---\n",
    "# View the last 5 records of the above banknotes dataset \n",
    "# ---\n",
    "# OUR CODE GOES BELOW\n",
    "# \n",
    "banknotes.tail(5)"
   ]
  },
  {
   "cell_type": "code",
   "execution_count": 10,
   "metadata": {
    "id": "aFgg61OxZZvT"
   },
   "outputs": [
    {
     "name": "stdout",
     "output_type": "stream",
     "text": [
      "     conterfeit  Length   Left  Right  Bottom   Top  Diagonal\n",
      "188           1   214.8  129.9  130.2     9.6  11.9     139.4\n",
      "152           1   214.6  129.7  129.3    10.4  11.0     139.3\n",
      "199           1   214.3  129.9  129.9    10.2  11.5     139.6\n",
      "147           1   215.3  130.6  130.3     9.3  11.3     138.1\n",
      "94            0   214.7  129.6  129.5     8.3  10.0     142.0\n",
      "96            0   215.0  130.4  130.3     9.1  10.2     141.1\n",
      "0             0   214.8  131.0  131.1     9.0   9.7     141.0\n",
      "80            0   215.1  129.7  129.7     8.6  10.3     140.6\n",
      "22            0   215.3  130.6  130.0     8.4  10.8     141.5\n",
      "86            0   215.2  129.9  129.7     8.7   9.5     141.6\n",
      "38            0   215.3  130.3  130.1     8.5   9.3     142.1\n",
      "42            0   214.9  129.6  129.4     9.3   9.0     141.7\n",
      "162           1   214.6  130.1  130.0    11.5  10.6     139.5\n",
      "11            0   215.1  129.5  129.6     7.7  10.5     142.2\n",
      "55            0   215.2  129.7  129.4     9.2   9.4     142.0\n",
      "119           1   214.4  130.2  129.9    10.1  12.0     139.2\n",
      "103           1   215.0  130.4  130.6     9.9  10.9     140.3\n",
      "56            0   215.7  130.0  129.4     9.2  10.4     141.2\n",
      "88            0   214.9  130.3  129.9     7.4  11.2     141.5\n",
      "173           1   214.8  129.6  130.0    10.4  11.6     139.2\n",
      "194           1   214.9  130.3  130.5    11.6  10.6     139.8\n",
      "12            0   215.2  130.8  129.6     7.9  10.8     141.4\n",
      "104           1   214.7  130.2  130.3    11.8  10.9     139.7\n",
      "167           1   215.6  130.4  130.1     9.6  11.2     138.6\n",
      "111           1   215.1  130.5  130.3    10.6  11.5     140.1\n",
      "132           1   214.9  130.5  130.2    10.6  11.5     139.9\n",
      "126           1   215.0  130.4  130.4     9.4  11.6     140.2\n",
      "4             0   215.0  129.6  129.7    10.4   7.7     141.8\n",
      "97            0   214.4  129.7  129.5     8.0  10.3     141.2\n",
      "165           1   215.1  130.3  130.6    10.3  12.0     139.7\n",
      "66            0   214.6  129.5  129.2     7.7  10.3     141.3\n",
      "3             0   214.8  129.7  129.6     7.5  10.4     142.0\n",
      "106           1   215.3  130.3  130.1     9.3  12.1     140.2\n",
      "164           1   214.3  130.3  130.0    11.4  10.5     139.8\n",
      "183           1   214.6  130.5  130.4    10.1  11.4     139.3\n",
      "182           1   215.0  130.5  130.1    11.0  11.4     139.3\n",
      "128           1   215.1  130.2  130.2    10.1  11.3     140.3\n",
      "137           1   214.9  130.7  130.3     9.3  11.2     138.3\n",
      "143           1   215.0  130.5  130.4    10.6  11.1     139.9\n",
      "30            0   215.2  130.1  129.8     7.9  10.7     141.8\n",
      "41            0   214.8  130.1  129.6     8.8   9.9     140.9\n",
      "40            0   214.4  129.8  129.2     8.9   9.4     142.3\n",
      "87            0   215.0  129.6  129.2     8.4  10.2     142.1\n",
      "124           1   214.7  130.5  130.5     9.9  10.3     140.1\n",
      "115           1   215.5  130.4  130.0     8.2  11.2     139.2\n",
      "109           1   215.2  130.6  130.8    10.4  11.2     140.3\n",
      "37            0   215.3  129.9  129.4     7.9  10.0     142.0\n",
      "118           1   214.8  130.5  130.2    11.0  11.0     140.0\n",
      "134           1   214.2  130.0  130.2    11.0  11.2     139.5\n",
      "51            0   215.3  130.6  130.0     9.5   9.7     141.1\n"
     ]
    }
   ],
   "source": [
    "# Challenge 3\n",
    "# ---\n",
    "# Get a sample of 50 records from the above banknotes dataset \n",
    "# ---\n",
    "# OUR CODE GOES BELOW\n",
    "# \n",
    "banknotes_sample=banknotes.sample(50)\n",
    "print(banknotes_sample)\n"
   ]
  },
  {
   "cell_type": "markdown",
   "metadata": {
    "id": "vjKU2wFjYseF"
   },
   "source": [
    "## 2. Selecting Columns I"
   ]
  },
  {
   "cell_type": "markdown",
   "metadata": {
    "id": "mcBYkd2dZeRm"
   },
   "source": [
    "### Examples"
   ]
  },
  {
   "cell_type": "code",
   "execution_count": 11,
   "metadata": {
    "id": "k-tJw2xQZeRo"
   },
   "outputs": [
    {
     "data": {
      "text/html": [
       "<div>\n",
       "<style scoped>\n",
       "    .dataframe tbody tr th:only-of-type {\n",
       "        vertical-align: middle;\n",
       "    }\n",
       "\n",
       "    .dataframe tbody tr th {\n",
       "        vertical-align: top;\n",
       "    }\n",
       "\n",
       "    .dataframe thead th {\n",
       "        text-align: right;\n",
       "    }\n",
       "</style>\n",
       "<table border=\"1\" class=\"dataframe\">\n",
       "  <thead>\n",
       "    <tr style=\"text-align: right;\">\n",
       "      <th></th>\n",
       "      <th>Value</th>\n",
       "    </tr>\n",
       "  </thead>\n",
       "  <tbody>\n",
       "    <tr>\n",
       "      <th>0</th>\n",
       "      <td>122.0</td>\n",
       "    </tr>\n",
       "    <tr>\n",
       "      <th>1</th>\n",
       "      <td>224.0</td>\n",
       "    </tr>\n",
       "    <tr>\n",
       "      <th>2</th>\n",
       "      <td>291.0</td>\n",
       "    </tr>\n",
       "    <tr>\n",
       "      <th>3</th>\n",
       "      <td>413.0</td>\n",
       "    </tr>\n",
       "    <tr>\n",
       "      <th>4</th>\n",
       "      <td>460.0</td>\n",
       "    </tr>\n",
       "  </tbody>\n",
       "</table>\n",
       "</div>"
      ],
      "text/plain": [
       "   Value\n",
       "0  122.0\n",
       "1  224.0\n",
       "2  291.0\n",
       "3  413.0\n",
       "4  460.0"
      ]
     },
     "execution_count": 11,
     "metadata": {},
     "output_type": "execute_result"
    }
   ],
   "source": [
    "# Selecting a Column\n",
    "# ---\n",
    "# Select the first 5 values of the Value column from the previously used ebola dataset\n",
    "# ---\n",
    "# \n",
    "ebola_df_value = ebola_df[['Value']]\n",
    "ebola_df_value.head()"
   ]
  },
  {
   "cell_type": "code",
   "execution_count": 12,
   "metadata": {
    "id": "DDrUE3y8ZeRt"
   },
   "outputs": [
    {
     "data": {
      "text/html": [
       "<div>\n",
       "<style scoped>\n",
       "    .dataframe tbody tr th:only-of-type {\n",
       "        vertical-align: middle;\n",
       "    }\n",
       "\n",
       "    .dataframe tbody tr th {\n",
       "        vertical-align: top;\n",
       "    }\n",
       "\n",
       "    .dataframe thead th {\n",
       "        text-align: right;\n",
       "    }\n",
       "</style>\n",
       "<table border=\"1\" class=\"dataframe\">\n",
       "  <thead>\n",
       "    <tr style=\"text-align: right;\">\n",
       "      <th></th>\n",
       "      <th>Country</th>\n",
       "      <th>Month</th>\n",
       "      <th>Year</th>\n",
       "      <th>Lat</th>\n",
       "    </tr>\n",
       "  </thead>\n",
       "  <tbody>\n",
       "    <tr>\n",
       "      <th>26</th>\n",
       "      <td>Sierra Leone</td>\n",
       "      <td>8</td>\n",
       "      <td>14</td>\n",
       "      <td>8.46</td>\n",
       "    </tr>\n",
       "    <tr>\n",
       "      <th>27</th>\n",
       "      <td>Sierra Leone</td>\n",
       "      <td>9</td>\n",
       "      <td>14</td>\n",
       "      <td>8.46</td>\n",
       "    </tr>\n",
       "    <tr>\n",
       "      <th>28</th>\n",
       "      <td>Sierra Leone</td>\n",
       "      <td>10</td>\n",
       "      <td>14</td>\n",
       "      <td>8.46</td>\n",
       "    </tr>\n",
       "    <tr>\n",
       "      <th>29</th>\n",
       "      <td>Sierra Leone</td>\n",
       "      <td>11</td>\n",
       "      <td>14</td>\n",
       "      <td>8.46</td>\n",
       "    </tr>\n",
       "    <tr>\n",
       "      <th>30</th>\n",
       "      <td>Sierra Leone</td>\n",
       "      <td>12</td>\n",
       "      <td>14</td>\n",
       "      <td>8.46</td>\n",
       "    </tr>\n",
       "  </tbody>\n",
       "</table>\n",
       "</div>"
      ],
      "text/plain": [
       "         Country  Month  Year   Lat\n",
       "26  Sierra Leone      8    14  8.46\n",
       "27  Sierra Leone      9    14  8.46\n",
       "28  Sierra Leone     10    14  8.46\n",
       "29  Sierra Leone     11    14  8.46\n",
       "30  Sierra Leone     12    14  8.46"
      ]
     },
     "execution_count": 12,
     "metadata": {},
     "output_type": "execute_result"
    }
   ],
   "source": [
    "# Selecting Multiple Columns I\n",
    "# ---\n",
    "# Select last 5 records from Country and Latitude column i.e. Lat, of the ebola dataset\n",
    "# ---\n",
    "#\n",
    "ebola_df_country_lat = ebola_df[['Country', 'Lat']]\n",
    "ebola_df_country_lat.tail()\n",
    "\n",
    "# Method 2\n",
    "# Uncomment the following lines\n",
    "# ---\n",
    "ebola_df_country_lat_method2 = ebola_df.iloc[:,0:4]\n",
    "ebola_df_country_lat_method2.tail()"
   ]
  },
  {
   "cell_type": "code",
   "execution_count": 13,
   "metadata": {
    "id": "PAYdeC6trVEr"
   },
   "outputs": [
    {
     "data": {
      "text/html": [
       "<div>\n",
       "<style scoped>\n",
       "    .dataframe tbody tr th:only-of-type {\n",
       "        vertical-align: middle;\n",
       "    }\n",
       "\n",
       "    .dataframe tbody tr th {\n",
       "        vertical-align: top;\n",
       "    }\n",
       "\n",
       "    .dataframe thead th {\n",
       "        text-align: right;\n",
       "    }\n",
       "</style>\n",
       "<table border=\"1\" class=\"dataframe\">\n",
       "  <thead>\n",
       "    <tr style=\"text-align: right;\">\n",
       "      <th></th>\n",
       "      <th>Country</th>\n",
       "      <th>Month</th>\n",
       "    </tr>\n",
       "  </thead>\n",
       "  <tbody>\n",
       "    <tr>\n",
       "      <th>26</th>\n",
       "      <td>Sierra Leone</td>\n",
       "      <td>8</td>\n",
       "    </tr>\n",
       "    <tr>\n",
       "      <th>27</th>\n",
       "      <td>Sierra Leone</td>\n",
       "      <td>9</td>\n",
       "    </tr>\n",
       "    <tr>\n",
       "      <th>28</th>\n",
       "      <td>Sierra Leone</td>\n",
       "      <td>10</td>\n",
       "    </tr>\n",
       "    <tr>\n",
       "      <th>29</th>\n",
       "      <td>Sierra Leone</td>\n",
       "      <td>11</td>\n",
       "    </tr>\n",
       "    <tr>\n",
       "      <th>30</th>\n",
       "      <td>Sierra Leone</td>\n",
       "      <td>12</td>\n",
       "    </tr>\n",
       "  </tbody>\n",
       "</table>\n",
       "</div>"
      ],
      "text/plain": [
       "         Country  Month\n",
       "26  Sierra Leone      8\n",
       "27  Sierra Leone      9\n",
       "28  Sierra Leone     10\n",
       "29  Sierra Leone     11\n",
       "30  Sierra Leone     12"
      ]
     },
     "execution_count": 13,
     "metadata": {},
     "output_type": "execute_result"
    }
   ],
   "source": [
    "# Selecting Multiple Columns II\n",
    "# ---\n",
    "# Select last 5 records of the first 2 columns of the the ebola dataset\n",
    "# ---\n",
    "# \n",
    "ebola_df_country_bonus = ebola_df.iloc[:,0:2]\n",
    "ebola_df_country_bonus.tail()"
   ]
  },
  {
   "cell_type": "markdown",
   "metadata": {
    "id": "amveijHvZqGL"
   },
   "source": [
    "### <font color=\"green\">Challenges</font>"
   ]
  },
  {
   "cell_type": "code",
   "execution_count": 14,
   "metadata": {
    "id": "lsZ4g8bNZqGN"
   },
   "outputs": [
    {
     "data": {
      "text/html": [
       "<div>\n",
       "<style scoped>\n",
       "    .dataframe tbody tr th:only-of-type {\n",
       "        vertical-align: middle;\n",
       "    }\n",
       "\n",
       "    .dataframe tbody tr th {\n",
       "        vertical-align: top;\n",
       "    }\n",
       "\n",
       "    .dataframe thead th {\n",
       "        text-align: right;\n",
       "    }\n",
       "</style>\n",
       "<table border=\"1\" class=\"dataframe\">\n",
       "  <thead>\n",
       "    <tr style=\"text-align: right;\">\n",
       "      <th></th>\n",
       "      <th>Diagonal</th>\n",
       "    </tr>\n",
       "  </thead>\n",
       "  <tbody>\n",
       "    <tr>\n",
       "      <th>0</th>\n",
       "      <td>141.0</td>\n",
       "    </tr>\n",
       "    <tr>\n",
       "      <th>1</th>\n",
       "      <td>141.7</td>\n",
       "    </tr>\n",
       "    <tr>\n",
       "      <th>2</th>\n",
       "      <td>142.2</td>\n",
       "    </tr>\n",
       "    <tr>\n",
       "      <th>3</th>\n",
       "      <td>142.0</td>\n",
       "    </tr>\n",
       "    <tr>\n",
       "      <th>4</th>\n",
       "      <td>141.8</td>\n",
       "    </tr>\n",
       "    <tr>\n",
       "      <th>5</th>\n",
       "      <td>141.4</td>\n",
       "    </tr>\n",
       "    <tr>\n",
       "      <th>6</th>\n",
       "      <td>141.6</td>\n",
       "    </tr>\n",
       "    <tr>\n",
       "      <th>7</th>\n",
       "      <td>141.7</td>\n",
       "    </tr>\n",
       "    <tr>\n",
       "      <th>8</th>\n",
       "      <td>141.9</td>\n",
       "    </tr>\n",
       "    <tr>\n",
       "      <th>9</th>\n",
       "      <td>140.7</td>\n",
       "    </tr>\n",
       "    <tr>\n",
       "      <th>10</th>\n",
       "      <td>141.8</td>\n",
       "    </tr>\n",
       "    <tr>\n",
       "      <th>11</th>\n",
       "      <td>142.2</td>\n",
       "    </tr>\n",
       "    <tr>\n",
       "      <th>12</th>\n",
       "      <td>141.4</td>\n",
       "    </tr>\n",
       "    <tr>\n",
       "      <th>13</th>\n",
       "      <td>141.7</td>\n",
       "    </tr>\n",
       "    <tr>\n",
       "      <th>14</th>\n",
       "      <td>141.8</td>\n",
       "    </tr>\n",
       "    <tr>\n",
       "      <th>15</th>\n",
       "      <td>141.6</td>\n",
       "    </tr>\n",
       "    <tr>\n",
       "      <th>16</th>\n",
       "      <td>141.7</td>\n",
       "    </tr>\n",
       "    <tr>\n",
       "      <th>17</th>\n",
       "      <td>141.9</td>\n",
       "    </tr>\n",
       "    <tr>\n",
       "      <th>18</th>\n",
       "      <td>141.5</td>\n",
       "    </tr>\n",
       "    <tr>\n",
       "      <th>19</th>\n",
       "      <td>141.9</td>\n",
       "    </tr>\n",
       "  </tbody>\n",
       "</table>\n",
       "</div>"
      ],
      "text/plain": [
       "    Diagonal\n",
       "0      141.0\n",
       "1      141.7\n",
       "2      142.2\n",
       "3      142.0\n",
       "4      141.8\n",
       "5      141.4\n",
       "6      141.6\n",
       "7      141.7\n",
       "8      141.9\n",
       "9      140.7\n",
       "10     141.8\n",
       "11     142.2\n",
       "12     141.4\n",
       "13     141.7\n",
       "14     141.8\n",
       "15     141.6\n",
       "16     141.7\n",
       "17     141.9\n",
       "18     141.5\n",
       "19     141.9"
      ]
     },
     "execution_count": 14,
     "metadata": {},
     "output_type": "execute_result"
    }
   ],
   "source": [
    "# Challenge 1\n",
    "# ---\n",
    "# Select the first 20 records of the Diagonal column in the given banknotes dataset.\n",
    "# ---\n",
    "# Dataset url = https://bit.ly/2yT9oAU\n",
    "# ---\n",
    "# OUR CODE GOES BELOW\n",
    "# \n",
    "banknotes_diagonal=banknotes[['Diagonal']]\n",
    "banknotes_diagonal.head(20)"
   ]
  },
  {
   "cell_type": "code",
   "execution_count": 15,
   "metadata": {
    "id": "tEtn_FD8ZqGR"
   },
   "outputs": [
    {
     "data": {
      "text/html": [
       "<div>\n",
       "<style scoped>\n",
       "    .dataframe tbody tr th:only-of-type {\n",
       "        vertical-align: middle;\n",
       "    }\n",
       "\n",
       "    .dataframe tbody tr th {\n",
       "        vertical-align: top;\n",
       "    }\n",
       "\n",
       "    .dataframe thead th {\n",
       "        text-align: right;\n",
       "    }\n",
       "</style>\n",
       "<table border=\"1\" class=\"dataframe\">\n",
       "  <thead>\n",
       "    <tr style=\"text-align: right;\">\n",
       "      <th></th>\n",
       "      <th>Diagonal</th>\n",
       "      <th>conterfeit</th>\n",
       "    </tr>\n",
       "  </thead>\n",
       "  <tbody>\n",
       "    <tr>\n",
       "      <th>38</th>\n",
       "      <td>142.1</td>\n",
       "      <td>0</td>\n",
       "    </tr>\n",
       "    <tr>\n",
       "      <th>124</th>\n",
       "      <td>140.1</td>\n",
       "      <td>1</td>\n",
       "    </tr>\n",
       "    <tr>\n",
       "      <th>67</th>\n",
       "      <td>141.5</td>\n",
       "      <td>0</td>\n",
       "    </tr>\n",
       "    <tr>\n",
       "      <th>66</th>\n",
       "      <td>141.3</td>\n",
       "      <td>0</td>\n",
       "    </tr>\n",
       "    <tr>\n",
       "      <th>3</th>\n",
       "      <td>142.0</td>\n",
       "      <td>0</td>\n",
       "    </tr>\n",
       "    <tr>\n",
       "      <th>102</th>\n",
       "      <td>140.2</td>\n",
       "      <td>1</td>\n",
       "    </tr>\n",
       "    <tr>\n",
       "      <th>175</th>\n",
       "      <td>139.0</td>\n",
       "      <td>1</td>\n",
       "    </tr>\n",
       "    <tr>\n",
       "      <th>189</th>\n",
       "      <td>139.2</td>\n",
       "      <td>1</td>\n",
       "    </tr>\n",
       "    <tr>\n",
       "      <th>180</th>\n",
       "      <td>139.1</td>\n",
       "      <td>1</td>\n",
       "    </tr>\n",
       "    <tr>\n",
       "      <th>39</th>\n",
       "      <td>141.3</td>\n",
       "      <td>0</td>\n",
       "    </tr>\n",
       "  </tbody>\n",
       "</table>\n",
       "</div>"
      ],
      "text/plain": [
       "     Diagonal  conterfeit\n",
       "38      142.1           0\n",
       "124     140.1           1\n",
       "67      141.5           0\n",
       "66      141.3           0\n",
       "3       142.0           0\n",
       "102     140.2           1\n",
       "175     139.0           1\n",
       "189     139.2           1\n",
       "180     139.1           1\n",
       "39      141.3           0"
      ]
     },
     "execution_count": 15,
     "metadata": {},
     "output_type": "execute_result"
    }
   ],
   "source": [
    "# Challenge 2\n",
    "# ---\n",
    "# Select a sample of 10 records from the Diagonal and conterfeit column using the banknotes dataset.\n",
    "# ---\n",
    "# OUR CODE GOES BELOW\n",
    "# \n",
    "banknotes[['Diagonal','conterfeit']].sample(10)"
   ]
  },
  {
   "cell_type": "code",
   "execution_count": 16,
   "metadata": {
    "id": "z_JIguQLZqGV"
   },
   "outputs": [
    {
     "data": {
      "text/html": [
       "<div>\n",
       "<style scoped>\n",
       "    .dataframe tbody tr th:only-of-type {\n",
       "        vertical-align: middle;\n",
       "    }\n",
       "\n",
       "    .dataframe tbody tr th {\n",
       "        vertical-align: top;\n",
       "    }\n",
       "\n",
       "    .dataframe thead th {\n",
       "        text-align: right;\n",
       "    }\n",
       "</style>\n",
       "<table border=\"1\" class=\"dataframe\">\n",
       "  <thead>\n",
       "    <tr style=\"text-align: right;\">\n",
       "      <th></th>\n",
       "      <th>Left</th>\n",
       "      <th>Right</th>\n",
       "      <th>Bottom</th>\n",
       "      <th>Top</th>\n",
       "      <th>Diagonal</th>\n",
       "    </tr>\n",
       "  </thead>\n",
       "  <tbody>\n",
       "    <tr>\n",
       "      <th>0</th>\n",
       "      <td>131.0</td>\n",
       "      <td>131.1</td>\n",
       "      <td>9.0</td>\n",
       "      <td>9.7</td>\n",
       "      <td>141.0</td>\n",
       "    </tr>\n",
       "    <tr>\n",
       "      <th>1</th>\n",
       "      <td>129.7</td>\n",
       "      <td>129.7</td>\n",
       "      <td>8.1</td>\n",
       "      <td>9.5</td>\n",
       "      <td>141.7</td>\n",
       "    </tr>\n",
       "    <tr>\n",
       "      <th>2</th>\n",
       "      <td>129.7</td>\n",
       "      <td>129.7</td>\n",
       "      <td>8.7</td>\n",
       "      <td>9.6</td>\n",
       "      <td>142.2</td>\n",
       "    </tr>\n",
       "    <tr>\n",
       "      <th>3</th>\n",
       "      <td>129.7</td>\n",
       "      <td>129.6</td>\n",
       "      <td>7.5</td>\n",
       "      <td>10.4</td>\n",
       "      <td>142.0</td>\n",
       "    </tr>\n",
       "    <tr>\n",
       "      <th>4</th>\n",
       "      <td>129.6</td>\n",
       "      <td>129.7</td>\n",
       "      <td>10.4</td>\n",
       "      <td>7.7</td>\n",
       "      <td>141.8</td>\n",
       "    </tr>\n",
       "    <tr>\n",
       "      <th>...</th>\n",
       "      <td>...</td>\n",
       "      <td>...</td>\n",
       "      <td>...</td>\n",
       "      <td>...</td>\n",
       "      <td>...</td>\n",
       "    </tr>\n",
       "    <tr>\n",
       "      <th>195</th>\n",
       "      <td>130.4</td>\n",
       "      <td>130.3</td>\n",
       "      <td>9.9</td>\n",
       "      <td>12.1</td>\n",
       "      <td>139.6</td>\n",
       "    </tr>\n",
       "    <tr>\n",
       "      <th>196</th>\n",
       "      <td>130.3</td>\n",
       "      <td>129.9</td>\n",
       "      <td>10.3</td>\n",
       "      <td>11.5</td>\n",
       "      <td>139.7</td>\n",
       "    </tr>\n",
       "    <tr>\n",
       "      <th>197</th>\n",
       "      <td>130.3</td>\n",
       "      <td>130.4</td>\n",
       "      <td>10.6</td>\n",
       "      <td>11.1</td>\n",
       "      <td>140.0</td>\n",
       "    </tr>\n",
       "    <tr>\n",
       "      <th>198</th>\n",
       "      <td>130.7</td>\n",
       "      <td>130.8</td>\n",
       "      <td>11.2</td>\n",
       "      <td>11.2</td>\n",
       "      <td>139.4</td>\n",
       "    </tr>\n",
       "    <tr>\n",
       "      <th>199</th>\n",
       "      <td>129.9</td>\n",
       "      <td>129.9</td>\n",
       "      <td>10.2</td>\n",
       "      <td>11.5</td>\n",
       "      <td>139.6</td>\n",
       "    </tr>\n",
       "  </tbody>\n",
       "</table>\n",
       "<p>200 rows × 5 columns</p>\n",
       "</div>"
      ],
      "text/plain": [
       "      Left  Right  Bottom   Top  Diagonal\n",
       "0    131.0  131.1     9.0   9.7     141.0\n",
       "1    129.7  129.7     8.1   9.5     141.7\n",
       "2    129.7  129.7     8.7   9.6     142.2\n",
       "3    129.7  129.6     7.5  10.4     142.0\n",
       "4    129.6  129.7    10.4   7.7     141.8\n",
       "..     ...    ...     ...   ...       ...\n",
       "195  130.4  130.3     9.9  12.1     139.6\n",
       "196  130.3  129.9    10.3  11.5     139.7\n",
       "197  130.3  130.4    10.6  11.1     140.0\n",
       "198  130.7  130.8    11.2  11.2     139.4\n",
       "199  129.9  129.9    10.2  11.5     139.6\n",
       "\n",
       "[200 rows x 5 columns]"
      ]
     },
     "execution_count": 16,
     "metadata": {},
     "output_type": "execute_result"
    }
   ],
   "source": [
    "# Challenge 3\n",
    "# ---\n",
    "# In prepartion for data modeling, you're required to select last 5 colums of the banknotes dataset.\n",
    "# Once you do so, preview the dataframe to check whether you've selected the columns correctly.\n",
    "# ---\n",
    "# OUR CODE GOES BELOW\n",
    "# \n",
    "banknotes.iloc[:,-5:]"
   ]
  },
  {
   "cell_type": "markdown",
   "metadata": {
    "id": "InG0BnDgYxUo"
   },
   "source": [
    "## 3. Selecting Columns II "
   ]
  },
  {
   "cell_type": "markdown",
   "metadata": {
    "id": "JFmLS0JcZfyU"
   },
   "source": [
    "### Examples"
   ]
  },
  {
   "cell_type": "code",
   "execution_count": 17,
   "metadata": {
    "id": "1WgKBLL5ZfyV"
   },
   "outputs": [
    {
     "data": {
      "text/plain": [
       "['Guinea', 'Liberia', 'Mali', 'Senegal', 'Sierra Leone']"
      ]
     },
     "execution_count": 17,
     "metadata": {},
     "output_type": "execute_result"
    }
   ],
   "source": [
    "# Selecting Unique Values in a column\n",
    "# --- \n",
    "# Let's select unique values from the Country column in the ebola dataset\n",
    "# ---\n",
    "# \n",
    "ebola_countries = ebola_df['Country'].unique() \n",
    "\n",
    "# We use the list() method to get a list else\n",
    "# we would get an array.\n",
    "# ---\n",
    "#\n",
    "list(ebola_countries)"
   ]
  },
  {
   "cell_type": "code",
   "execution_count": 18,
   "metadata": {
    "id": "nHzN8EplZfyY"
   },
   "outputs": [
    {
     "data": {
      "text/html": [
       "<div>\n",
       "<style scoped>\n",
       "    .dataframe tbody tr th:only-of-type {\n",
       "        vertical-align: middle;\n",
       "    }\n",
       "\n",
       "    .dataframe tbody tr th {\n",
       "        vertical-align: top;\n",
       "    }\n",
       "\n",
       "    .dataframe thead th {\n",
       "        text-align: right;\n",
       "    }\n",
       "</style>\n",
       "<table border=\"1\" class=\"dataframe\">\n",
       "  <thead>\n",
       "    <tr style=\"text-align: right;\">\n",
       "      <th></th>\n",
       "      <th>Country</th>\n",
       "      <th>Month</th>\n",
       "      <th>Year</th>\n",
       "      <th>Lat</th>\n",
       "      <th>Lon</th>\n",
       "      <th>Value</th>\n",
       "    </tr>\n",
       "  </thead>\n",
       "  <tbody>\n",
       "    <tr>\n",
       "      <th>19</th>\n",
       "      <td>Mali</td>\n",
       "      <td>10</td>\n",
       "      <td>14</td>\n",
       "      <td>17.57</td>\n",
       "      <td>-4.0</td>\n",
       "      <td>1.0</td>\n",
       "    </tr>\n",
       "    <tr>\n",
       "      <th>20</th>\n",
       "      <td>Mali</td>\n",
       "      <td>11</td>\n",
       "      <td>14</td>\n",
       "      <td>17.57</td>\n",
       "      <td>-4.0</td>\n",
       "      <td>8.0</td>\n",
       "    </tr>\n",
       "  </tbody>\n",
       "</table>\n",
       "</div>"
      ],
      "text/plain": [
       "   Country  Month  Year    Lat  Lon  Value\n",
       "19    Mali     10    14  17.57 -4.0    1.0\n",
       "20    Mali     11    14  17.57 -4.0    8.0"
      ]
     },
     "execution_count": 18,
     "metadata": {},
     "output_type": "execute_result"
    }
   ],
   "source": [
    "# Selecting Rows with Columns with certain values\n",
    "# ---\n",
    "# We will select all Liberia records\n",
    "# \n",
    "liberia_records = ebola_df[ebola_df.Country.isin(['Mali'])]\n",
    "liberia_records"
   ]
  },
  {
   "cell_type": "code",
   "execution_count": 19,
   "metadata": {
    "id": "vTAS74BpZfyb"
   },
   "outputs": [
    {
     "data": {
      "text/html": [
       "<div>\n",
       "<style scoped>\n",
       "    .dataframe tbody tr th:only-of-type {\n",
       "        vertical-align: middle;\n",
       "    }\n",
       "\n",
       "    .dataframe tbody tr th {\n",
       "        vertical-align: top;\n",
       "    }\n",
       "\n",
       "    .dataframe thead th {\n",
       "        text-align: right;\n",
       "    }\n",
       "</style>\n",
       "<table border=\"1\" class=\"dataframe\">\n",
       "  <thead>\n",
       "    <tr style=\"text-align: right;\">\n",
       "      <th></th>\n",
       "      <th>Country</th>\n",
       "      <th>Month</th>\n",
       "      <th>Year</th>\n",
       "      <th>Lat</th>\n",
       "      <th>Lon</th>\n",
       "      <th>Value</th>\n",
       "    </tr>\n",
       "  </thead>\n",
       "  <tbody>\n",
       "    <tr>\n",
       "      <th>3</th>\n",
       "      <td>Guinea</td>\n",
       "      <td>6</td>\n",
       "      <td>14</td>\n",
       "      <td>9.95</td>\n",
       "      <td>-9.70</td>\n",
       "      <td>413.0</td>\n",
       "    </tr>\n",
       "    <tr>\n",
       "      <th>26</th>\n",
       "      <td>Sierra Leone</td>\n",
       "      <td>8</td>\n",
       "      <td>14</td>\n",
       "      <td>8.46</td>\n",
       "      <td>-11.78</td>\n",
       "      <td>1216.0</td>\n",
       "    </tr>\n",
       "    <tr>\n",
       "      <th>29</th>\n",
       "      <td>Sierra Leone</td>\n",
       "      <td>11</td>\n",
       "      <td>14</td>\n",
       "      <td>8.46</td>\n",
       "      <td>-11.78</td>\n",
       "      <td>NaN</td>\n",
       "    </tr>\n",
       "    <tr>\n",
       "      <th>21</th>\n",
       "      <td>Senegal</td>\n",
       "      <td>8</td>\n",
       "      <td>14</td>\n",
       "      <td>14.50</td>\n",
       "      <td>-14.45</td>\n",
       "      <td>1.0</td>\n",
       "    </tr>\n",
       "    <tr>\n",
       "      <th>22</th>\n",
       "      <td>Senegal</td>\n",
       "      <td>9</td>\n",
       "      <td>14</td>\n",
       "      <td>14.50</td>\n",
       "      <td>-14.45</td>\n",
       "      <td>3.0</td>\n",
       "    </tr>\n",
       "    <tr>\n",
       "      <th>24</th>\n",
       "      <td>Sierra Leone</td>\n",
       "      <td>6</td>\n",
       "      <td>14</td>\n",
       "      <td>8.46</td>\n",
       "      <td>-11.78</td>\n",
       "      <td>239.0</td>\n",
       "    </tr>\n",
       "    <tr>\n",
       "      <th>1</th>\n",
       "      <td>Guinea</td>\n",
       "      <td>4</td>\n",
       "      <td>14</td>\n",
       "      <td>9.95</td>\n",
       "      <td>-9.70</td>\n",
       "      <td>224.0</td>\n",
       "    </tr>\n",
       "    <tr>\n",
       "      <th>27</th>\n",
       "      <td>Sierra Leone</td>\n",
       "      <td>9</td>\n",
       "      <td>14</td>\n",
       "      <td>8.46</td>\n",
       "      <td>-11.78</td>\n",
       "      <td>1940.0</td>\n",
       "    </tr>\n",
       "    <tr>\n",
       "      <th>2</th>\n",
       "      <td>Guinea</td>\n",
       "      <td>5</td>\n",
       "      <td>14</td>\n",
       "      <td>9.95</td>\n",
       "      <td>-9.70</td>\n",
       "      <td>291.0</td>\n",
       "    </tr>\n",
       "    <tr>\n",
       "      <th>30</th>\n",
       "      <td>Sierra Leone</td>\n",
       "      <td>12</td>\n",
       "      <td>14</td>\n",
       "      <td>8.46</td>\n",
       "      <td>-11.78</td>\n",
       "      <td>NaN</td>\n",
       "    </tr>\n",
       "    <tr>\n",
       "      <th>4</th>\n",
       "      <td>Guinea</td>\n",
       "      <td>7</td>\n",
       "      <td>14</td>\n",
       "      <td>9.95</td>\n",
       "      <td>-9.70</td>\n",
       "      <td>460.0</td>\n",
       "    </tr>\n",
       "    <tr>\n",
       "      <th>25</th>\n",
       "      <td>Sierra Leone</td>\n",
       "      <td>7</td>\n",
       "      <td>14</td>\n",
       "      <td>8.46</td>\n",
       "      <td>-11.78</td>\n",
       "      <td>533.0</td>\n",
       "    </tr>\n",
       "    <tr>\n",
       "      <th>5</th>\n",
       "      <td>Guinea</td>\n",
       "      <td>8</td>\n",
       "      <td>14</td>\n",
       "      <td>9.95</td>\n",
       "      <td>-9.70</td>\n",
       "      <td>771.0</td>\n",
       "    </tr>\n",
       "    <tr>\n",
       "      <th>8</th>\n",
       "      <td>Guinea</td>\n",
       "      <td>11</td>\n",
       "      <td>14</td>\n",
       "      <td>9.95</td>\n",
       "      <td>-9.70</td>\n",
       "      <td>NaN</td>\n",
       "    </tr>\n",
       "    <tr>\n",
       "      <th>20</th>\n",
       "      <td>Mali</td>\n",
       "      <td>11</td>\n",
       "      <td>14</td>\n",
       "      <td>17.57</td>\n",
       "      <td>-4.00</td>\n",
       "      <td>8.0</td>\n",
       "    </tr>\n",
       "  </tbody>\n",
       "</table>\n",
       "</div>"
      ],
      "text/plain": [
       "         Country  Month  Year    Lat    Lon   Value\n",
       "3         Guinea      6    14   9.95  -9.70   413.0\n",
       "26  Sierra Leone      8    14   8.46 -11.78  1216.0\n",
       "29  Sierra Leone     11    14   8.46 -11.78     NaN\n",
       "21       Senegal      8    14  14.50 -14.45     1.0\n",
       "22       Senegal      9    14  14.50 -14.45     3.0\n",
       "24  Sierra Leone      6    14   8.46 -11.78   239.0\n",
       "1         Guinea      4    14   9.95  -9.70   224.0\n",
       "27  Sierra Leone      9    14   8.46 -11.78  1940.0\n",
       "2         Guinea      5    14   9.95  -9.70   291.0\n",
       "30  Sierra Leone     12    14   8.46 -11.78     NaN\n",
       "4         Guinea      7    14   9.95  -9.70   460.0\n",
       "25  Sierra Leone      7    14   8.46 -11.78   533.0\n",
       "5         Guinea      8    14   9.95  -9.70   771.0\n",
       "8         Guinea     11    14   9.95  -9.70     NaN\n",
       "20          Mali     11    14  17.57  -4.00     8.0"
      ]
     },
     "execution_count": 19,
     "metadata": {},
     "output_type": "execute_result"
    }
   ],
   "source": [
    "# Selecting Records with Columns without certain values\n",
    "# ---\n",
    "# We will select all other records apart from the Liberia ones.\n",
    "# Let's confirm our result by checking a sample of 10 records.\n",
    "# ---\n",
    "#\n",
    "other_country_records = ebola_df[~ebola_df.Country.isin(['Liberia'])]\n",
    "other_country_records.sample(15)"
   ]
  },
  {
   "cell_type": "markdown",
   "metadata": {
    "id": "4S6nBEpDZq6E"
   },
   "source": [
    "### <font color=\"green\">Challenges</font>"
   ]
  },
  {
   "cell_type": "code",
   "execution_count": 20,
   "metadata": {
    "id": "-cM9sp_IZq6G"
   },
   "outputs": [
    {
     "data": {
      "text/plain": [
       "array([214.8, 214.6, 215. , 215.7, 215.5, 214.5, 214.9, 215.2, 215.3,\n",
       "       215.1, 214.7, 215.6, 215.9, 213.9, 214.4, 214.3, 215.4, 213.8,\n",
       "       214.1, 214.2, 216.3])"
      ]
     },
     "execution_count": 20,
     "metadata": {},
     "output_type": "execute_result"
    }
   ],
   "source": [
    "# Challenge 1\n",
    "# ---\n",
    "# Select and preview the unique length values in banknotes?\n",
    "# ---\n",
    "# Dataset url = https://bit.ly/2yT9oAU\n",
    "# ---\n",
    "# \n",
    "banknotes['Length'].unique()\n",
    "\n"
   ]
  },
  {
   "cell_type": "code",
   "execution_count": 21,
   "metadata": {
    "id": "RzPM-f_FZq6K"
   },
   "outputs": [
    {
     "ename": "TypeError",
     "evalue": "__len__() takes 1 positional argument but 2 were given",
     "output_type": "error",
     "traceback": [
      "\u001b[0;31m---------------------------------------------------------------------------\u001b[0m",
      "\u001b[0;31mTypeError\u001b[0m                                 Traceback (most recent call last)",
      "\u001b[1;32m/home/edwin/Desktop/dataScience2022/projects/day2/Data_Analysis_with_Python.ipynb Cell 30\u001b[0m in \u001b[0;36m<cell line: 8>\u001b[0;34m()\u001b[0m\n\u001b[1;32m      <a href='vscode-notebook-cell:/home/edwin/Desktop/dataScience2022/projects/day2/Data_Analysis_with_Python.ipynb#X41sZmlsZQ%3D%3D?line=0'>1</a>\u001b[0m \u001b[39m# Challenge 2\u001b[39;00m\n\u001b[1;32m      <a href='vscode-notebook-cell:/home/edwin/Desktop/dataScience2022/projects/day2/Data_Analysis_with_Python.ipynb#X41sZmlsZQ%3D%3D?line=1'>2</a>\u001b[0m \u001b[39m# ---\u001b[39;00m\n\u001b[1;32m      <a href='vscode-notebook-cell:/home/edwin/Desktop/dataScience2022/projects/day2/Data_Analysis_with_Python.ipynb#X41sZmlsZQ%3D%3D?line=2'>3</a>\u001b[0m \u001b[39m# How many banknotes had a left measurement and right measurement greater than 129?\u001b[39;00m\n\u001b[0;32m   (...)\u001b[0m\n\u001b[1;32m      <a href='vscode-notebook-cell:/home/edwin/Desktop/dataScience2022/projects/day2/Data_Analysis_with_Python.ipynb#X41sZmlsZQ%3D%3D?line=5'>6</a>\u001b[0m \u001b[39m# ---\u001b[39;00m\n\u001b[1;32m      <a href='vscode-notebook-cell:/home/edwin/Desktop/dataScience2022/projects/day2/Data_Analysis_with_Python.ipynb#X41sZmlsZQ%3D%3D?line=6'>7</a>\u001b[0m \u001b[39m# \u001b[39;00m\n\u001b[0;32m----> <a href='vscode-notebook-cell:/home/edwin/Desktop/dataScience2022/projects/day2/Data_Analysis_with_Python.ipynb#X41sZmlsZQ%3D%3D?line=7'>8</a>\u001b[0m banknotes_sample\u001b[39m.\u001b[39;49m\u001b[39m__len__\u001b[39;49m(\u001b[39m129\u001b[39;49m)\n",
      "\u001b[0;31mTypeError\u001b[0m: __len__() takes 1 positional argument but 2 were given"
     ]
    }
   ],
   "source": [
    "# Challenge 2\n",
    "# ---\n",
    "# How many banknotes had a left measurement and right measurement greater than 129?\n",
    "# Get a sample of the records and later determine the no.\n",
    "# Hint: Sample  Use len() to determine the no. of items.\n",
    "# ---\n",
    "# \n",
    "banknotes_sample.__len__(129)"
   ]
  },
  {
   "cell_type": "markdown",
   "metadata": {
    "id": "mxCkESI_ZA5A"
   },
   "source": [
    "## 4. Ranking / Sorting"
   ]
  },
  {
   "cell_type": "markdown",
   "metadata": {
    "id": "iDnNGL-mZhJ9"
   },
   "source": [
    "### Examples"
   ]
  },
  {
   "cell_type": "code",
   "execution_count": null,
   "metadata": {
    "id": "JB7Sd98YZhKw"
   },
   "outputs": [],
   "source": [
    "# Sorting in Ascending / Descending Order \n",
    "# ---\n",
    "# From the ebola dataset sort the Guinea records in descending order\n",
    "# ---\n",
    "# OUR CODE GOES BELOW\n",
    "# \n",
    "guinea_records = ebola_df[ebola_df.Country.isin(['Guinea'])].sort_values(by='Value', ascending=1)\n",
    "guinea_records.head()"
   ]
  },
  {
   "cell_type": "code",
   "execution_count": null,
   "metadata": {
    "id": "Xqp_I7LiZhKo"
   },
   "outputs": [],
   "source": [
    "# Ranking in Ascending Order\n",
    "# ---\n",
    "# Create a new column that is the rank of the value of 'Value' in descending order\n",
    "# ---\n",
    "# \n",
    "ebola_df['Ranking'] = ebola_df['Value'].rank(ascending=0)\n",
    "ebola_df.head()"
   ]
  },
  {
   "cell_type": "markdown",
   "metadata": {
    "id": "qP3PtIAAZsBG"
   },
   "source": [
    "### <font color=\"green\">Challenges</font>"
   ]
  },
  {
   "cell_type": "code",
   "execution_count": null,
   "metadata": {
    "id": "awH7EcF_ZsBI"
   },
   "outputs": [],
   "source": [
    "# Challenge 1\n",
    "# ---\n",
    "# From the ebola dataset, select the Mali records with more \n",
    "# than 100 cases and sort them in descending order. \n",
    "# ---\n",
    "# "
   ]
  },
  {
   "cell_type": "code",
   "execution_count": null,
   "metadata": {
    "id": "aw5EjsOPZsBK"
   },
   "outputs": [],
   "source": [
    "# Challenge 2\n",
    "# ---\n",
    "# From the banknotes dataset, find out which records had the largest \n",
    "# diagonal length? In addition, rank them by left size.\n",
    "# --- \n",
    "# Dataset url = https://bit.ly/2yT9oAU\n",
    "# ---\n",
    "# "
   ]
  },
  {
   "cell_type": "markdown",
   "metadata": {
    "id": "YC9AVuitZFD8"
   },
   "source": [
    "## 5. Aggregate Functions "
   ]
  },
  {
   "cell_type": "markdown",
   "metadata": {
    "id": "UxbUs5stZiZs"
   },
   "source": [
    "### Examples"
   ]
  },
  {
   "cell_type": "code",
   "execution_count": 22,
   "metadata": {
    "id": "lMkqHrLdZiZv"
   },
   "outputs": [
    {
     "data": {
      "text/plain": [
       "(9, 6)"
      ]
     },
     "execution_count": 22,
     "metadata": {},
     "output_type": "execute_result"
    }
   ],
   "source": [
    "# Example 1\n",
    "# ---\n",
    "# Shape\n",
    "# ---\n",
    "# How many Liberian records do we have in our ebola dataset?\n",
    "# ---\n",
    "# (records, columns)\n",
    "#\n",
    "liberia_records = ebola_df[ebola_df.Country.isin(['Liberia'])]\n",
    "liberia_records.shape\n",
    "\n",
    "# (9 records, 6 columns)"
   ]
  },
  {
   "cell_type": "code",
   "execution_count": 23,
   "metadata": {
    "id": "1mb9r-5uhXRb"
   },
   "outputs": [
    {
     "data": {
      "text/plain": [
       "Country    9\n",
       "Month      9\n",
       "Year       9\n",
       "Lat        9\n",
       "Lon        9\n",
       "Value      6\n",
       "dtype: int64"
      ]
     },
     "execution_count": 23,
     "metadata": {},
     "output_type": "execute_result"
    }
   ],
   "source": [
    "# Example 2\n",
    "# ---\n",
    "# Count() Function\n",
    "# ---\n",
    "# How many values do we have accoss our variables in our ebola dataset?\n",
    "# ---\n",
    "#\n",
    "liberia_records = ebola_df[ebola_df.Country.isin(['Liberia'])]\n",
    "liberia_records.count()"
   ]
  },
  {
   "cell_type": "code",
   "execution_count": null,
   "metadata": {
    "id": "fv0c4tTEZiaB"
   },
   "outputs": [],
   "source": [
    "# Example 3\n",
    "# ---\n",
    "# Unique Occurrences\n",
    "# ---\n",
    "# Were all records in our ebola dataset unique?\n",
    "# ---\n",
    "# \n",
    "ebola_df[ebola_df.duplicated()].shape\n",
    "\n",
    "# Yes, there were no duplicate records"
   ]
  },
  {
   "cell_type": "code",
   "execution_count": null,
   "metadata": {
    "id": "fQsRKwb1eeWB"
   },
   "outputs": [],
   "source": [
    "# Example 4\n",
    "# ---\n",
    "# Sum\n",
    "# ---\n",
    "# How many ebola cases in Sierra Leone were reported given the ebola dataset?\n",
    "# ---\n",
    "# \n",
    "sierra_cases_sum = ebola_df[ebola_df.Country.isin(['Sierra Leone'])][['Value']].sum() \n",
    "sierra_cases_sum"
   ]
  },
  {
   "cell_type": "code",
   "execution_count": null,
   "metadata": {
    "id": "rLSxUtujZGe9"
   },
   "outputs": [],
   "source": [
    "# Example 5\n",
    "# ---\n",
    "# Minimum\n",
    "# ---\n",
    "# Which record had the least no of ebola cases?\n",
    "# ---\n",
    "# \n",
    "least_cases = ebola_df.min()\n",
    "least_cases "
   ]
  },
  {
   "cell_type": "code",
   "execution_count": null,
   "metadata": {
    "id": "u943169peXFP"
   },
   "outputs": [],
   "source": [
    "# Maximum\n",
    "# ---\n",
    "# Which record had the highest no of ebola cases?\n",
    "# ---\n",
    "# \n",
    "highest_cases = ebola_df.max()\n",
    "highest_cases"
   ]
  },
  {
   "cell_type": "code",
   "execution_count": null,
   "metadata": {
    "id": "G5-TLQHQeYsK"
   },
   "outputs": [],
   "source": [
    "# Mean\n",
    "# ---\n",
    "# What was the average number of ebola cases in Sierra Leone?\n",
    "# ---\n",
    "# \n",
    "sierra_cases_avg = ebola_df[ebola_df.Country.isin(['Sierra Leone'])][['Value']].mean() \n",
    "sierra_cases_avg"
   ]
  },
  {
   "cell_type": "code",
   "execution_count": null,
   "metadata": {
    "id": "OpX6s0yueecR"
   },
   "outputs": [],
   "source": [
    "# Mode\n",
    "# ---\n",
    "# What was the most frequent value in the Ebola dataset?\n",
    "# ---\n",
    "# \n",
    "frequent_values_df = ebola_df['Country'].mode() \n",
    "frequent_values_df"
   ]
  },
  {
   "cell_type": "code",
   "execution_count": null,
   "metadata": {
    "id": "wWpB21E9CiJn"
   },
   "outputs": [],
   "source": [
    "# Median\n",
    "# ---\n",
    "# The median value of the Ebola cases.\n",
    "# ---\n",
    "# \n",
    "median_values_df = ebola_df['Value'].median() \n",
    "median_values_df"
   ]
  },
  {
   "cell_type": "code",
   "execution_count": null,
   "metadata": {
    "id": "KhVsLoBoedbc"
   },
   "outputs": [],
   "source": [
    "# Summary Statistics\n",
    "# ---\n",
    "# Create a descriptive statistics table of the given ebola dataset \n",
    "# in preparation for further analysis.\n",
    "# ---\n",
    "# \n",
    "ebola_df.describe()"
   ]
  },
  {
   "cell_type": "markdown",
   "metadata": {
    "id": "1mUNWEtSZsi9"
   },
   "source": [
    "### <font color=\"green\">Challenges</font>"
   ]
  },
  {
   "cell_type": "code",
   "execution_count": null,
   "metadata": {
    "id": "R-G7d9HyZsi_"
   },
   "outputs": [],
   "source": [
    "# Challenge 1\n",
    "# ---\n",
    "# How many records can be found in the following insurance dataset?\n",
    "# ---\n",
    "# Insurance Dataset url = https://bit.ly/2y5CRYc\n",
    "# ---\n",
    "# This dataset contains anonymised patient data.\n",
    "# ---\n",
    "# OUR CODE GOES BELOW\n",
    "# "
   ]
  },
  {
   "cell_type": "code",
   "execution_count": null,
   "metadata": {
    "id": "dl1KEjeoZsjB"
   },
   "outputs": [],
   "source": [
    "# Challenge 2\n",
    "# ---\n",
    "# Are there any duplicates in the insurance dataset?\n",
    "# ---\n",
    "# OUR CODE GOES BELOW\n",
    "# "
   ]
  },
  {
   "cell_type": "code",
   "execution_count": null,
   "metadata": {
    "id": "vDj1GABnZsjD"
   },
   "outputs": [],
   "source": [
    "# Challenge 3\n",
    "# ---\n",
    "# Which regions did the patients come from?\n",
    "# ---\n",
    "# OUR CODE GOES BELOW\n",
    "# "
   ]
  },
  {
   "cell_type": "code",
   "execution_count": null,
   "metadata": {
    "id": "TAtrNHs824ay"
   },
   "outputs": [],
   "source": [
    "# Challenge 4\n",
    "# ---\n",
    "# What was the highest bmi recorded for patients from northwest and southwest regions?\n",
    "# ---\n",
    "# OUR CODE GOES BELOW\n",
    "# "
   ]
  },
  {
   "cell_type": "code",
   "execution_count": null,
   "metadata": {
    "id": "tsloZ4Bo24P1"
   },
   "outputs": [],
   "source": [
    "# Challenge 5\n",
    "# ---\n",
    "# What was the youngest age of a patient?\n",
    "# ---\n",
    "# OUR CODE GOES BELOW\n",
    "#"
   ]
  },
  {
   "cell_type": "code",
   "execution_count": null,
   "metadata": {
    "id": "XffQqHOd24KD"
   },
   "outputs": [],
   "source": [
    "# Challenge 6\n",
    "# ---\n",
    "# What was the average bmi recorded for patients above 50 years old?\n",
    "# ---\n",
    "# OUR CODE GOES BELOW\n",
    "#"
   ]
  },
  {
   "cell_type": "code",
   "execution_count": null,
   "metadata": {
    "id": "2IULqwYi235v"
   },
   "outputs": [],
   "source": [
    "# Challenge 7\n",
    "# ---\n",
    "# How much was spent collectively by male and female patients?\n",
    "# ---\n",
    "# OUR CODE GOES BELOW\n",
    "#"
   ]
  },
  {
   "cell_type": "markdown",
   "metadata": {
    "id": "MojDFr9UZH05"
   },
   "source": [
    "## 6. Grouping"
   ]
  },
  {
   "cell_type": "markdown",
   "metadata": {
    "id": "iPIq_mwkZjUS"
   },
   "source": [
    "### Examples"
   ]
  },
  {
   "cell_type": "code",
   "execution_count": null,
   "metadata": {
    "id": "06M0UADbE13H"
   },
   "outputs": [],
   "source": [
    "# Let's first load and preview the dataset that we will need for our examples \n",
    "# ---\n",
    "#\n",
    "insurance_df = pd.read_csv('https://bit.ly/2y5CRYc')\n",
    "insurance_df.head()"
   ]
  },
  {
   "cell_type": "code",
   "execution_count": null,
   "metadata": {
    "id": "OO1t8mqJZjUT"
   },
   "outputs": [],
   "source": [
    "# Example 1\n",
    "# ---\n",
    "# The groupby() function is used to split the data into groups based on some criteria.\n",
    "# ---\n",
    "# We will start by grouping by a single column and including an aggregate function as shown.\n",
    "# ---\n",
    "# NB: We will not store any our dataframe in a variable for ease of\n",
    "# performing computations\n",
    "# ---\n",
    "#\n",
    "insurance_df.groupby('region').mean()"
   ]
  },
  {
   "cell_type": "code",
   "execution_count": null,
   "metadata": {
    "id": "LlsRE01jPsVi"
   },
   "outputs": [],
   "source": [
    "# Example 2\n",
    "# ---\n",
    "# We can get the first entry for each gender by doing the following\n",
    "# ---\n",
    "# NB: You can also get the last one too using last()\n",
    "# ---\n",
    "# \n",
    "insurance_df.groupby('sex').first()"
   ]
  },
  {
   "cell_type": "code",
   "execution_count": null,
   "metadata": {
    "id": "EbK46keMM8ny"
   },
   "outputs": [],
   "source": [
    "# Example 3\n",
    "# ---\n",
    "# We can group a single column by another column then apply an aggregate function as shown\n",
    "# ---\n",
    "# \n",
    "insurance_df['expenses'].groupby([insurance_df['sex']]).sum()\n",
    "\n",
    "# Method 2\n",
    "# ---\n",
    "# NB: The groupby output will have an index or multi-index on rows corresponding \n",
    "# to our chosen grouping variables. To avoid setting this index, \n",
    "# we pass “as_index = False” to the groupby operation\n",
    "# ---\n",
    "# insurance_df.groupby('sex', as_index = False)['expenses'].sum()"
   ]
  },
  {
   "cell_type": "code",
   "execution_count": null,
   "metadata": {
    "id": "e2HYu24NOb3B"
   },
   "outputs": [],
   "source": [
    "# Example 4\n",
    "# ---\n",
    "# We can group the region column by another column i.e. bmi then apply an aggregate function\n",
    "# as shown\n",
    "# ---\n",
    "#\n",
    "insurance_df['bmi'].groupby([insurance_df['region']]).mean()\n",
    "\n",
    "# Method 2\n",
    "# ---\n",
    "# insurance_df.groupby('region', as_index = False)['bmi'].mean()"
   ]
  },
  {
   "cell_type": "code",
   "execution_count": null,
   "metadata": {
    "id": "KlZPbe_wP_YW"
   },
   "outputs": [],
   "source": [
    "# Example 5\n",
    "# ---\n",
    "# We can create a summary statistical table as shown below\n",
    "# ---\n",
    "insurance_df['expenses'].groupby([insurance_df['region']]).describe()\n",
    "\n",
    "# Method 2\n",
    "# ---\n",
    "# insurance_df.groupby('region', as_index = False)['expenses'].describe()"
   ]
  },
  {
   "cell_type": "code",
   "execution_count": null,
   "metadata": {
    "id": "-pjNXDxMQg5W"
   },
   "outputs": [],
   "source": [
    "# Example 6\n",
    "# ---\n",
    "# Further seeing how we can group a column by another column as shown \n",
    "# \n",
    "insurance_df['children'].groupby([insurance_df['region']]).sum()\n",
    "\n",
    "# Method 2\n",
    "# ---\n",
    "#\n",
    "# insurance_df.groupby('region', as_index = False)['children'].sum()"
   ]
  },
  {
   "cell_type": "code",
   "execution_count": null,
   "metadata": {
    "id": "5JiJ-exNX0Uk"
   },
   "outputs": [],
   "source": [
    "# Example 7\n",
    "# ---\n",
    "# Applying multiple aggregate functions after grouping a column by another column\n",
    "# ---\n",
    "# \n",
    "insurance_df['expenses'].groupby([insurance_df['region']]).agg([min, max, sum])\n",
    "\n",
    "# Method 2\n",
    "# insurance_df.groupby(['region'], as_index = False).agg({'expenses': [min, max, sum] })"
   ]
  },
  {
   "cell_type": "code",
   "execution_count": null,
   "metadata": {
    "id": "dw7F3D8-Z7rQ"
   },
   "outputs": [],
   "source": [
    "# Example 8\n",
    "# ---\n",
    "# We can also apply multiple aggregate functions after grouping a column by another column\n",
    "# ---\n",
    "# \n",
    "insurance_df.groupby(['region', 'sex'], as_index = False).agg({'expenses': [min, max, sum] })"
   ]
  },
  {
   "cell_type": "code",
   "execution_count": null,
   "metadata": {
    "id": "S9Q79b2NRbuO"
   },
   "outputs": [],
   "source": [
    "# Example 9\n",
    "# ---\n",
    "# Grouping by of multiple columns and then applying an aggregate function\n",
    "# ---\n",
    "# \n",
    "insurance_df['expenses'].groupby([insurance_df['region'], insurance_df['sex']]).sum()\n",
    "\n",
    "# Method 2\n",
    "# ---\n",
    "# insurance_df.groupby(['region', 'sex'], as_index = False)['expenses'].sum()\n",
    "\n",
    "# Method 3\n",
    "# ---\n",
    "# insurance_df.groupby(['region', 'sex']).agg({'expenses': ['sum']})"
   ]
  },
  {
   "cell_type": "markdown",
   "metadata": {
    "id": "sWGVGLXeZtLH"
   },
   "source": [
    "### <font color=\"green\">Challenges</font>"
   ]
  },
  {
   "cell_type": "code",
   "execution_count": null,
   "metadata": {
    "id": "0ipcashTZtLI"
   },
   "outputs": [],
   "source": [
    "# Let's load and preview the dataset that we will use for the given challenges.\n",
    "# ---\n",
    "# The dataset contains customer invoice data.\n",
    "# ---\n",
    "# Dataset url = https://bit.ly/SuperMarketSalesDB\n",
    "# ---\n",
    "#  "
   ]
  },
  {
   "cell_type": "code",
   "execution_count": null,
   "metadata": {
    "id": "IrFwkaMuZtLK"
   },
   "outputs": [],
   "source": [
    "# Challenge 1\n",
    "# ---\n",
    "# Question: What was the average tax per city?\n",
    "# ---\n",
    "# OUR CODE GOES BELOW \n",
    "# "
   ]
  },
  {
   "cell_type": "code",
   "execution_count": null,
   "metadata": {
    "id": "KcuTMahpZtLM"
   },
   "outputs": [],
   "source": [
    "# Challenge 2\n",
    "# ---\n",
    "# Question: How much did female members from the city of Yagon spend?\n",
    "# ---\n",
    "# OUR CODE GOES BELOW \n",
    "# "
   ]
  },
  {
   "cell_type": "code",
   "execution_count": null,
   "metadata": {
    "id": "UuElKxR0o1ws"
   },
   "outputs": [],
   "source": [
    "# Challenge 3\n",
    "# ---\n",
    "# Question: How much was spent across all cities?\n",
    "# ---\n",
    "# OUR CODE GOES BELOW \n",
    "# "
   ]
  },
  {
   "cell_type": "code",
   "execution_count": null,
   "metadata": {
    "id": "_WtKM6mSo1j-"
   },
   "outputs": [],
   "source": [
    "# Challenge 4\n",
    "# ---\n",
    "# Question: What was the sum of goods sold across all branches?\n",
    "# ---\n",
    "# OUR CODE GOES BELOW \n",
    "# "
   ]
  },
  {
   "cell_type": "code",
   "execution_count": null,
   "metadata": {
    "id": "gpRpOLPAo1eE"
   },
   "outputs": [],
   "source": [
    "# Challenge 5\n",
    "# ---\n",
    "# Question: Which branches collected the most amount of money? \n",
    "# ---\n",
    "# OUR CODE GOES BELOW \n",
    "# "
   ]
  },
  {
   "cell_type": "code",
   "execution_count": null,
   "metadata": {
    "id": "KAhpUL2Ro1T5"
   },
   "outputs": [],
   "source": [
    "# Challenge 6\n",
    "# ---\n",
    "# Question: Which were the top rated branches?\n",
    "# ---\n",
    "# OUR CODE GOES BELOW \n",
    "# "
   ]
  },
  {
   "cell_type": "code",
   "execution_count": null,
   "metadata": {
    "id": "_NMGSpxlo1M3"
   },
   "outputs": [],
   "source": [
    "# Challenge 7\n",
    "# ---\n",
    "# Question: Make a comparison between non-members who made cash payments and credit card payments.\n",
    "# ---\n",
    "# OUR CODE GOES BELOW \n",
    "# "
   ]
  },
  {
   "cell_type": "code",
   "execution_count": null,
   "metadata": {
    "id": "k7c7R2Sfo08U"
   },
   "outputs": [],
   "source": [
    "# Challenge 8\n",
    "# ---\n",
    "# Question: Show the products line that sold the most indicating the rating.\n",
    "# ---\n",
    "# OUR CODE GOES BELOW \n",
    "# "
   ]
  },
  {
   "cell_type": "markdown",
   "metadata": {
    "id": "6XZbcORGZLd0"
   },
   "source": [
    "## 7. Pivot Tables"
   ]
  },
  {
   "cell_type": "markdown",
   "metadata": {
    "id": "xldYtGZ-Zjz5"
   },
   "source": [
    "### Examples"
   ]
  },
  {
   "cell_type": "code",
   "execution_count": null,
   "metadata": {
    "id": "XyNlcAEhZjz6"
   },
   "outputs": [],
   "source": [
    "# Example 1\n",
    "# ---\n",
    "# A pivot tables is a summary table and comprises of \n",
    "# outcomes similar to the group by tables.\n",
    "# --- \n",
    "# We will start working with pivot tables by getting one column \n",
    "# and applying an aggregate function as shown below\n",
    "# ---\n",
    "# \n",
    "pd.pivot_table(insurance_df, index=['region'], aggfunc='mean')"
   ]
  },
  {
   "cell_type": "code",
   "execution_count": null,
   "metadata": {
    "id": "E9eEtnPKZjz-"
   },
   "outputs": [],
   "source": [
    "# Example 2\n",
    "# ---\n",
    "# Getting the first entry for each gender\n",
    "# NB: You can get the last one too using last().\n",
    "# In addition, note the that the columns have been arranged alphabetically.\n",
    "# ---\n",
    "# \n",
    "pd.pivot_table(insurance_df, index=['sex'], aggfunc='first')"
   ]
  },
  {
   "cell_type": "code",
   "execution_count": null,
   "metadata": {
    "id": "XncXWHbLxNqv"
   },
   "outputs": [],
   "source": [
    "# Example 3\n",
    "# ---\n",
    "# We can group a single column by another column then apply an aggregate function as shown\n",
    "# ---\n",
    "# We will use numpy to compute the mean\n",
    "#\n",
    "pd.pivot_table(insurance_df, index=['sex'], aggfunc={'expenses': np.mean})"
   ]
  },
  {
   "cell_type": "code",
   "execution_count": null,
   "metadata": {
    "id": "ek2sW9X2zqwz"
   },
   "outputs": [],
   "source": [
    "# Example 4\n",
    "# ---\n",
    "# Grouping region by another column i.e. bmi, applying an aggregate function\n",
    "# ---\n",
    "#\n",
    "pd.pivot_table(insurance_df, index=['region'], aggfunc={'bmi': np.mean})"
   ]
  },
  {
   "cell_type": "code",
   "execution_count": null,
   "metadata": {
    "id": "ZfOhsM1I0bNu"
   },
   "outputs": [],
   "source": [
    "# Example 5\n",
    "# ---\n",
    "# Using a pivote table, we can also create a summary statistical table as shown below\n",
    "# ---\n",
    "#\n",
    "pd.pivot_table(insurance_df, index=['region'], aggfunc={'expenses': 'describe'})"
   ]
  },
  {
   "cell_type": "code",
   "execution_count": null,
   "metadata": {
    "id": "3_brcCVY3gHq"
   },
   "outputs": [],
   "source": [
    "# Example 6\n",
    "# ---\n",
    "# Getting the no. of children in each region\n",
    "# ---\n",
    "#  \n",
    "# \n",
    "pd.pivot_table(insurance_df, index=['region'], aggfunc={'children': sum}) "
   ]
  },
  {
   "cell_type": "code",
   "execution_count": null,
   "metadata": {
    "id": "ldDrVxC54Al8"
   },
   "outputs": [],
   "source": [
    "# Example 6\n",
    "# ---\n",
    "# Applying multiple aggregate functions to a group\n",
    "# ---\n",
    "# \n",
    "pd.pivot_table(insurance_df, index=['region', 'sex'], aggfunc={'expenses': [min, max, sum]})"
   ]
  },
  {
   "cell_type": "code",
   "execution_count": null,
   "metadata": {
    "id": "e1HkBiWr51y6"
   },
   "outputs": [],
   "source": [
    "# Example 7\n",
    "# ---\n",
    "# Applying multiple aggregate functions to a group\n",
    "# ---\n",
    "# \n",
    "pd.pivot_table(insurance_df, index=['region', 'sex'], aggfunc={'expenses': sum})"
   ]
  },
  {
   "cell_type": "markdown",
   "metadata": {
    "id": "q9c7In767vRZ"
   },
   "source": [
    "### <font color=\"green\">Challenges</font>"
   ]
  },
  {
   "cell_type": "markdown",
   "metadata": {
    "id": "WDtAMSQd7y3B"
   },
   "source": [
    "The challenges in this section will be same as the ones group by challenges. Compare your solutions with the ones you got in the previous section."
   ]
  },
  {
   "cell_type": "code",
   "execution_count": null,
   "metadata": {
    "id": "8U-l2XmL7vRd"
   },
   "outputs": [],
   "source": [
    "# You will use the supermarket dataset you previously used. \n",
    "# ---\n",
    "# The dataset contains customer invoice data.\n",
    "# ---\n",
    "# Dataset url = https://bit.ly/SuperMarketSalesDB\n",
    "# ---\n",
    "#  "
   ]
  },
  {
   "cell_type": "code",
   "execution_count": null,
   "metadata": {
    "id": "YQ47XAX67vRm"
   },
   "outputs": [],
   "source": [
    "# Challenge 1\n",
    "# ---\n",
    "# Question: What was the average tax per city?\n",
    "# ---\n",
    "# OUR CODE GOES BELOW \n",
    "# "
   ]
  },
  {
   "cell_type": "code",
   "execution_count": null,
   "metadata": {
    "id": "M54iMgRt7vRv"
   },
   "outputs": [],
   "source": [
    "# Challenge 2\n",
    "# ---\n",
    "# Question: How much did female members from the city of Yagon spend?\n",
    "# ---\n",
    "# OUR CODE GOES BELOW \n",
    "# "
   ]
  },
  {
   "cell_type": "code",
   "execution_count": null,
   "metadata": {
    "id": "n7ua8NHY7vSI"
   },
   "outputs": [],
   "source": [
    "# Challenge 3\n",
    "# ---\n",
    "# Question: How much was spent across all cities?\n",
    "# ---\n",
    "# OUR CODE GOES BELOW \n",
    "# "
   ]
  },
  {
   "cell_type": "code",
   "execution_count": null,
   "metadata": {
    "id": "F4Cdnyqb7vSN"
   },
   "outputs": [],
   "source": [
    "# Challenge 4\n",
    "# ---\n",
    "# Question: What was the sum of goods sold across all branches?\n",
    "# ---\n",
    "# OUR CODE GOES BELOW \n",
    "# "
   ]
  },
  {
   "cell_type": "code",
   "execution_count": null,
   "metadata": {
    "id": "BiqXSy4Q7vSS"
   },
   "outputs": [],
   "source": [
    "# Challenge 5\n",
    "# ---\n",
    "# Question: Which branches collected the most amount of money? \n",
    "# ---\n",
    "# OUR CODE GOES BELOW \n",
    "# "
   ]
  },
  {
   "cell_type": "code",
   "execution_count": null,
   "metadata": {
    "id": "PXKJv3tW7vSY"
   },
   "outputs": [],
   "source": [
    "# Challenge 6\n",
    "# ---\n",
    "# Question: Which were the top rated branches?\n",
    "# ---\n",
    "# OUR CODE GOES BELOW \n",
    "# "
   ]
  },
  {
   "cell_type": "code",
   "execution_count": null,
   "metadata": {
    "id": "0MF7tVGR7vSd"
   },
   "outputs": [],
   "source": [
    "# Challenge 7\n",
    "# ---\n",
    "# Question: Make a comparison between non-members who made cash payments and credit card payments.\n",
    "# ---\n",
    "# OUR CODE GOES BELOW \n",
    "# "
   ]
  },
  {
   "cell_type": "code",
   "execution_count": null,
   "metadata": {
    "id": "v_YYoGhh7vSj"
   },
   "outputs": [],
   "source": [
    "# Challenge 8\n",
    "# ---\n",
    "# Question: Show the products line that sold the most indicating the rating.\n",
    "# ---\n",
    "# OUR CODE GOES BELOW \n",
    "# "
   ]
  }
 ],
 "metadata": {
  "colab": {
   "collapsed_sections": [
    "AzLPOliHYP0V",
    "p5-vSSK2YRvv",
    "AKFUFX9oYYlz",
    "8qPMH6tKZQCL",
    "K7XZ0lfDZSfE",
    "vjKU2wFjYseF",
    "mcBYkd2dZeRm",
    "amveijHvZqGL",
    "InG0BnDgYxUo",
    "JFmLS0JcZfyU",
    "4S6nBEpDZq6E",
    "mxCkESI_ZA5A",
    "iDnNGL-mZhJ9",
    "qP3PtIAAZsBG",
    "YC9AVuitZFD8",
    "UxbUs5stZiZs",
    "1mUNWEtSZsi9",
    "MojDFr9UZH05",
    "iPIq_mwkZjUS",
    "sWGVGLXeZtLH",
    "6XZbcORGZLd0",
    "xldYtGZ-Zjz5",
    "q9c7In767vRZ"
   ],
   "provenance": [],
   "toc_visible": true
  },
  "kernelspec": {
   "display_name": "Python 3.9.12 ('base')",
   "language": "python",
   "name": "python3"
  },
  "language_info": {
   "codemirror_mode": {
    "name": "ipython",
    "version": 3
   },
   "file_extension": ".py",
   "mimetype": "text/x-python",
   "name": "python",
   "nbconvert_exporter": "python",
   "pygments_lexer": "ipython3",
   "version": "3.9.12"
  },
  "vscode": {
   "interpreter": {
    "hash": "b0110ce229cb207ddb9b0dff5e36830f20fa7483e4a3a6d9ec374c321c26f348"
   }
  }
 },
 "nbformat": 4,
 "nbformat_minor": 1
}
