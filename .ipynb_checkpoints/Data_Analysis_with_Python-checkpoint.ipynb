{
 "cells": [
  {
   "cell_type": "markdown",
   "metadata": {
    "id": "AzLPOliHYP0V"
   },
   "source": [
    "# Data Analysis with Python"
   ]
  },
  {
   "cell_type": "markdown",
   "metadata": {
    "id": "p5-vSSK2YRvv"
   },
   "source": [
    "## Pre-requisites"
   ]
  },
  {
   "cell_type": "code",
   "execution_count": 3,
   "metadata": {
    "id": "7KgwSnDfYDoq"
   },
   "outputs": [],
   "source": [
    "# Pre-requisite 1\n",
    "# ---\n",
    "# Importing pandas library for data manipulation\n",
    "# ---\n",
    "# OUR CODE GOES BELOW\n",
    "# \n",
    "import pandas as pd"
   ]
  },
  {
   "cell_type": "code",
   "execution_count": 4,
   "metadata": {
    "id": "qUUHs9KPYUh_"
   },
   "outputs": [],
   "source": [
    "# Pre-requisite 2\n",
    "# ---\n",
    "# Importing numpy library for scientific computations\n",
    "# ---\n",
    "# OUR CODE GOES BELOW\n",
    "# \n",
    "import numpy as np"
   ]
  },
  {
   "cell_type": "markdown",
   "metadata": {
    "id": "AKFUFX9oYYlz"
   },
   "source": [
    "## 1. Data Exploration"
   ]
  },
  {
   "cell_type": "markdown",
   "metadata": {
    "id": "8qPMH6tKZQCL"
   },
   "source": [
    "### Examples"
   ]
  },
  {
   "cell_type": "code",
   "execution_count": null,
   "metadata": {
    "id": "mO6NfKbVYrCd"
   },
   "outputs": [],
   "source": [
    "# Viewing top records of the dataset\n",
    "# ---\n",
    "# You have been given the following dataset on Ebola cases.\n",
    "# Let's preview the first 10 rows.\n",
    "# ---\n",
    "# Dataset url = https://bit.ly/2T60DKG\n",
    "# \n",
    "ebola_df = pd.read_csv('https://bit.ly/2T60DKG')\n",
    "ebola_df.head(10)"
   ]
  },
  {
   "cell_type": "code",
   "execution_count": null,
   "metadata": {
    "id": "_-q9fhfTZRhK"
   },
   "outputs": [],
   "source": [
    "# Viewing last records of the dataset\n",
    "# ---\n",
    "# Preview the last 10 records of the ebola dataset\n",
    "# ---\n",
    "# \n",
    "last_ebola_df = ebola_df.tail(10)\n",
    "last_ebola_df"
   ]
  },
  {
   "cell_type": "code",
   "execution_count": null,
   "metadata": {
    "id": "sJVRps4pZRXm"
   },
   "outputs": [],
   "source": [
    "# Taking a sample\n",
    "# ---\n",
    "# Take a sample of the 5 records from the ebola dataset\n",
    "# ---\n",
    "# \n",
    "sample_ebola_df = ebola_df.sample(5)\n",
    "sample_ebola_df"
   ]
  },
  {
   "cell_type": "markdown",
   "metadata": {
    "id": "K7XZ0lfDZSfE"
   },
   "source": [
    "### <font color=\"green\">Challenges</font>"
   ]
  },
  {
   "cell_type": "code",
   "execution_count": null,
   "metadata": {
    "id": "DnYZqcjdZZgg"
   },
   "outputs": [],
   "source": [
    "# Challenge 1\n",
    "# ---\n",
    "# View the first 20 records of the given banknotes dataset \n",
    "# ---\n",
    "# Dataset url = https://bit.ly/2yT9oAU\n",
    "# ---\n",
    "# OUR CODE GOES BELOW\n",
    "# \n",
    "banknotes= pd.read_csv('https://bit.ly/2yT9oAU')\n",
    "banknotes.head(20)"
   ]
  },
  {
   "cell_type": "code",
   "execution_count": null,
   "metadata": {
    "id": "nw1IjmUZZaA2"
   },
   "outputs": [],
   "source": [
    "# Challenge 2\n",
    "# ---\n",
    "# View the last 5 records of the above banknotes dataset \n",
    "# ---\n",
    "# OUR CODE GOES BELOW\n",
    "# \n",
    "banknotes.tail(5)"
   ]
  },
  {
   "cell_type": "code",
   "execution_count": null,
   "metadata": {
    "id": "aFgg61OxZZvT"
   },
   "outputs": [],
   "source": [
    "# Challenge 3\n",
    "# ---\n",
    "# Get a sample of 50 records from the above banknotes dataset \n",
    "# ---\n",
    "# OUR CODE GOES BELOW\n",
    "# \n",
    "banknotes_sample=banknotes.sample(50)\n",
    "print(banknotes_sample)\n"
   ]
  },
  {
   "cell_type": "markdown",
   "metadata": {
    "id": "vjKU2wFjYseF"
   },
   "source": [
    "## 2. Selecting Columns I"
   ]
  },
  {
   "cell_type": "markdown",
   "metadata": {
    "id": "mcBYkd2dZeRm"
   },
   "source": [
    "### Examples"
   ]
  },
  {
   "cell_type": "code",
   "execution_count": null,
   "metadata": {
    "id": "k-tJw2xQZeRo"
   },
   "outputs": [],
   "source": [
    "# Selecting a Column\n",
    "# ---\n",
    "# Select the first 5 values of the Value column from the previously used ebola dataset\n",
    "# ---\n",
    "# \n",
    "ebola_df_value = ebola_df[['Value']]\n",
    "ebola_df_value.head()"
   ]
  },
  {
   "cell_type": "code",
   "execution_count": null,
   "metadata": {
    "id": "DDrUE3y8ZeRt"
   },
   "outputs": [],
   "source": [
    "# Selecting Multiple Columns I\n",
    "# ---\n",
    "# Select last 5 records from Country and Latitude column i.e. Lat, of the ebola dataset\n",
    "# ---\n",
    "#\n",
    "ebola_df_country_lat = ebola_df[['Country', 'Lat']]\n",
    "ebola_df_country_lat.tail()\n",
    "\n",
    "# Method 2\n",
    "# Uncomment the following lines\n",
    "# ---\n",
    "ebola_df_country_lat_method2 = ebola_df.iloc[:,0:4]\n",
    "ebola_df_country_lat_method2.tail()"
   ]
  },
  {
   "cell_type": "code",
   "execution_count": null,
   "metadata": {
    "id": "PAYdeC6trVEr"
   },
   "outputs": [],
   "source": [
    "# Selecting Multiple Columns II\n",
    "# ---\n",
    "# Select last 5 records of the first 2 columns of the the ebola dataset\n",
    "# ---\n",
    "# \n",
    "ebola_df_country_bonus = ebola_df.iloc[:,0:2]\n",
    "ebola_df_country_bonus.tail()"
   ]
  },
  {
   "cell_type": "markdown",
   "metadata": {
    "id": "amveijHvZqGL"
   },
   "source": [
    "### <font color=\"green\">Challenges</font>"
   ]
  },
  {
   "cell_type": "code",
   "execution_count": null,
   "metadata": {
    "id": "lsZ4g8bNZqGN"
   },
   "outputs": [],
   "source": [
    "# Challenge 1\n",
    "# ---\n",
    "# Select the first 20 records of the Diagonal column in the given banknotes dataset.\n",
    "# ---\n",
    "# Dataset url = https://bit.ly/2yT9oAU\n",
    "# ---\n",
    "# OUR CODE GOES BELOW\n",
    "# \n",
    "banknotes_diagonal=banknotes[['Diagonal']]\n",
    "banknotes_diagonal.head(20)"
   ]
  },
  {
   "cell_type": "code",
   "execution_count": null,
   "metadata": {
    "id": "tEtn_FD8ZqGR"
   },
   "outputs": [],
   "source": [
    "# Challenge 2\n",
    "# ---\n",
    "# Select a sample of 10 records from the Diagonal and conterfeit column using the banknotes dataset.\n",
    "# ---\n",
    "# OUR CODE GOES BELOW\n",
    "# \n",
    "banknotes[['Diagonal','conterfeit']].sample(10)"
   ]
  },
  {
   "cell_type": "code",
   "execution_count": null,
   "metadata": {
    "id": "z_JIguQLZqGV"
   },
   "outputs": [],
   "source": [
    "# Challenge 3\n",
    "# ---\n",
    "# In prepartion for data modeling, you're required to select last 5 colums of the banknotes dataset.\n",
    "# Once you do so, preview the dataframe to check whether you've selected the columns correctly.\n",
    "# ---\n",
    "# OUR CODE GOES BELOW\n",
    "# \n",
    "banknotes.iloc[:,-5:]"
   ]
  },
  {
   "cell_type": "markdown",
   "metadata": {
    "id": "InG0BnDgYxUo"
   },
   "source": [
    "## 3. Selecting Columns II "
   ]
  },
  {
   "cell_type": "markdown",
   "metadata": {
    "id": "JFmLS0JcZfyU"
   },
   "source": [
    "### Examples"
   ]
  },
  {
   "cell_type": "code",
   "execution_count": null,
   "metadata": {
    "id": "1WgKBLL5ZfyV"
   },
   "outputs": [],
   "source": [
    "# Selecting Unique Values in a column\n",
    "# --- \n",
    "# Let's select unique values from the Country column in the ebola dataset\n",
    "# ---\n",
    "# \n",
    "ebola_countries = ebola_df['Country'].unique() \n",
    "\n",
    "# We use the list() method to get a list else\n",
    "# we would get an array.\n",
    "# ---\n",
    "#\n",
    "list(ebola_countries)"
   ]
  },
  {
   "cell_type": "code",
   "execution_count": 1,
   "metadata": {
    "id": "nHzN8EplZfyY"
   },
   "outputs": [
    {
     "ename": "NameError",
     "evalue": "name 'ebola_df' is not defined",
     "output_type": "error",
     "traceback": [
      "\u001b[0;31m---------------------------------------------------------------------------\u001b[0m",
      "\u001b[0;31mNameError\u001b[0m                                 Traceback (most recent call last)",
      "\u001b[1;32m/home/edwin/Desktop/dataScience2022/projects/day2/Data_Analysis_with_Python.ipynb Cell 26\u001b[0m in \u001b[0;36m<cell line: 5>\u001b[0;34m()\u001b[0m\n\u001b[1;32m      <a href='vscode-notebook-cell:/home/edwin/Desktop/dataScience2022/projects/day2/Data_Analysis_with_Python.ipynb#X34sZmlsZQ%3D%3D?line=0'>1</a>\u001b[0m \u001b[39m# Selecting Rows with Columns with certain values\u001b[39;00m\n\u001b[1;32m      <a href='vscode-notebook-cell:/home/edwin/Desktop/dataScience2022/projects/day2/Data_Analysis_with_Python.ipynb#X34sZmlsZQ%3D%3D?line=1'>2</a>\u001b[0m \u001b[39m# ---\u001b[39;00m\n\u001b[1;32m      <a href='vscode-notebook-cell:/home/edwin/Desktop/dataScience2022/projects/day2/Data_Analysis_with_Python.ipynb#X34sZmlsZQ%3D%3D?line=2'>3</a>\u001b[0m \u001b[39m# We will select all Liberia records\u001b[39;00m\n\u001b[1;32m      <a href='vscode-notebook-cell:/home/edwin/Desktop/dataScience2022/projects/day2/Data_Analysis_with_Python.ipynb#X34sZmlsZQ%3D%3D?line=3'>4</a>\u001b[0m \u001b[39m# \u001b[39;00m\n\u001b[0;32m----> <a href='vscode-notebook-cell:/home/edwin/Desktop/dataScience2022/projects/day2/Data_Analysis_with_Python.ipynb#X34sZmlsZQ%3D%3D?line=4'>5</a>\u001b[0m liberia_records \u001b[39m=\u001b[39m ebola_df[ebola_df\u001b[39m.\u001b[39mCountry\u001b[39m.\u001b[39misin([\u001b[39m'\u001b[39m\u001b[39mMali\u001b[39m\u001b[39m'\u001b[39m])]\n\u001b[1;32m      <a href='vscode-notebook-cell:/home/edwin/Desktop/dataScience2022/projects/day2/Data_Analysis_with_Python.ipynb#X34sZmlsZQ%3D%3D?line=5'>6</a>\u001b[0m liberia_records\n",
      "\u001b[0;31mNameError\u001b[0m: name 'ebola_df' is not defined"
     ]
    }
   ],
   "source": [
    "# Selecting Rows with Columns with certain values\n",
    "# ---\n",
    "# We will select all Liberia records\n",
    "# \n",
    "liberia_records = ebola_df[ebola_df.Country.isin(['Mali'])]\n",
    "liberia_records"
   ]
  },
  {
   "cell_type": "code",
   "execution_count": null,
   "metadata": {
    "id": "vTAS74BpZfyb"
   },
   "outputs": [],
   "source": [
    "# Selecting Records with Columns without certain values\n",
    "# ---\n",
    "# We will select all other records apart from the Liberia ones.\n",
    "# Let's confirm our result by checking a sample of 10 records.\n",
    "# ---\n",
    "#\n",
    "other_country_records = ebola_df[~ebola_df.Country.isin(['Liberia'])]\n",
    "other_country_records.sample(15)"
   ]
  },
  {
   "cell_type": "markdown",
   "metadata": {
    "id": "4S6nBEpDZq6E"
   },
   "source": [
    "### <font color=\"green\">Challenges</font>"
   ]
  },
  {
   "cell_type": "code",
   "execution_count": null,
   "metadata": {
    "id": "-cM9sp_IZq6G"
   },
   "outputs": [],
   "source": [
    "# Challenge 1\n",
    "# ---\n",
    "# Select and preview the unique length values in banknotes?\n",
    "# ---\n",
    "# Dataset url = https://bit.ly/2yT9oAU\n",
    "# ---\n",
    "# \n",
    "banknotes['length'].unique()"
   ]
  },
  {
   "cell_type": "code",
   "execution_count": null,
   "metadata": {
    "id": "RzPM-f_FZq6K"
   },
   "outputs": [],
   "source": [
    "# Challenge 2\n",
    "# ---\n",
    "# How many banknotes had a left measurement and right measurement greater than 129?\n",
    "# Get a sample of the records and later determine the no.\n",
    "# Hint: Sample  Use len() to determine the no. of items.\n",
    "# ---\n",
    "# "
   ]
  },
  {
   "cell_type": "markdown",
   "metadata": {
    "id": "mxCkESI_ZA5A"
   },
   "source": [
    "## 4. Ranking / Sorting"
   ]
  },
  {
   "cell_type": "markdown",
   "metadata": {
    "id": "iDnNGL-mZhJ9"
   },
   "source": [
    "### Examples"
   ]
  },
  {
   "cell_type": "code",
   "execution_count": null,
   "metadata": {
    "id": "JB7Sd98YZhKw"
   },
   "outputs": [],
   "source": [
    "# Sorting in Ascending / Descending Order \n",
    "# ---\n",
    "# From the ebola dataset sort the Guinea records in descending order\n",
    "# ---\n",
    "# OUR CODE GOES BELOW\n",
    "# \n",
    "guinea_records = ebola_df[ebola_df.Country.isin(['Guinea'])].sort_values(by='Value', ascending=1)\n",
    "guinea_records.head()"
   ]
  },
  {
   "cell_type": "code",
   "execution_count": null,
   "metadata": {
    "id": "Xqp_I7LiZhKo"
   },
   "outputs": [],
   "source": [
    "# Ranking in Ascending Order\n",
    "# ---\n",
    "# Create a new column that is the rank of the value of 'Value' in descending order\n",
    "# ---\n",
    "# \n",
    "ebola_df['Ranking'] = ebola_df['Value'].rank(ascending=0)\n",
    "ebola_df.head()"
   ]
  },
  {
   "cell_type": "markdown",
   "metadata": {
    "id": "qP3PtIAAZsBG"
   },
   "source": [
    "### <font color=\"green\">Challenges</font>"
   ]
  },
  {
   "cell_type": "code",
   "execution_count": null,
   "metadata": {
    "id": "awH7EcF_ZsBI"
   },
   "outputs": [],
   "source": [
    "# Challenge 1\n",
    "# ---\n",
    "# From the ebola dataset, select the Mali records with more \n",
    "# than 100 cases and sort them in descending order. \n",
    "# ---\n",
    "# "
   ]
  },
  {
   "cell_type": "code",
   "execution_count": null,
   "metadata": {
    "id": "aw5EjsOPZsBK"
   },
   "outputs": [],
   "source": [
    "# Challenge 2\n",
    "# ---\n",
    "# From the banknotes dataset, find out which records had the largest \n",
    "# diagonal length? In addition, rank them by left size.\n",
    "# --- \n",
    "# Dataset url = https://bit.ly/2yT9oAU\n",
    "# ---\n",
    "# "
   ]
  },
  {
   "cell_type": "markdown",
   "metadata": {
    "id": "YC9AVuitZFD8"
   },
   "source": [
    "## 5. Aggregate Functions "
   ]
  },
  {
   "cell_type": "markdown",
   "metadata": {
    "id": "UxbUs5stZiZs"
   },
   "source": [
    "### Examples"
   ]
  },
  {
   "cell_type": "code",
   "execution_count": null,
   "metadata": {
    "id": "lMkqHrLdZiZv"
   },
   "outputs": [],
   "source": [
    "# Example 1\n",
    "# ---\n",
    "# Shape\n",
    "# ---\n",
    "# How many Liberian records do we have in our ebola dataset?\n",
    "# ---\n",
    "# (records, columns)\n",
    "#\n",
    "liberia_records = ebola_df[ebola_df.Country.isin(['Liberia'])]\n",
    "liberia_records.shape\n",
    "\n",
    "# (9 records, 7 columns)"
   ]
  },
  {
   "cell_type": "code",
   "execution_count": null,
   "metadata": {
    "id": "1mb9r-5uhXRb"
   },
   "outputs": [],
   "source": [
    "# Example 2\n",
    "# ---\n",
    "# Count() Function\n",
    "# ---\n",
    "# How many values do we have accoss our variables in our ebola dataset?\n",
    "# ---\n",
    "#\n",
    "liberia_records = ebola_df[ebola_df.Country.isin(['Liberia'])]\n",
    "liberia_records.count()"
   ]
  },
  {
   "cell_type": "code",
   "execution_count": null,
   "metadata": {
    "id": "fv0c4tTEZiaB"
   },
   "outputs": [],
   "source": [
    "# Example 3\n",
    "# ---\n",
    "# Unique Occurrences\n",
    "# ---\n",
    "# Were all records in our ebola dataset unique?\n",
    "# ---\n",
    "# \n",
    "ebola_df[ebola_df.duplicated()].shape\n",
    "\n",
    "# Yes, there were no duplicate records"
   ]
  },
  {
   "cell_type": "code",
   "execution_count": null,
   "metadata": {
    "id": "fQsRKwb1eeWB"
   },
   "outputs": [],
   "source": [
    "# Example 4\n",
    "# ---\n",
    "# Sum\n",
    "# ---\n",
    "# How many ebola cases in Sierra Leone were reported given the ebola dataset?\n",
    "# ---\n",
    "# \n",
    "sierra_cases_sum = ebola_df[ebola_df.Country.isin(['Sierra Leone'])][['Value']].sum() \n",
    "sierra_cases_sum"
   ]
  },
  {
   "cell_type": "code",
   "execution_count": null,
   "metadata": {
    "id": "rLSxUtujZGe9"
   },
   "outputs": [],
   "source": [
    "# Example 5\n",
    "# ---\n",
    "# Minimum\n",
    "# ---\n",
    "# Which record had the least no of ebola cases?\n",
    "# ---\n",
    "# \n",
    "least_cases = ebola_df.min()\n",
    "least_cases "
   ]
  },
  {
   "cell_type": "code",
   "execution_count": null,
   "metadata": {
    "id": "u943169peXFP"
   },
   "outputs": [],
   "source": [
    "# Maximum\n",
    "# ---\n",
    "# Which record had the highest no of ebola cases?\n",
    "# ---\n",
    "# \n",
    "highest_cases = ebola_df.max()\n",
    "highest_cases"
   ]
  },
  {
   "cell_type": "code",
   "execution_count": null,
   "metadata": {
    "id": "G5-TLQHQeYsK"
   },
   "outputs": [],
   "source": [
    "# Mean\n",
    "# ---\n",
    "# What was the average number of ebola cases in Sierra Leone?\n",
    "# ---\n",
    "# \n",
    "sierra_cases_avg = ebola_df[ebola_df.Country.isin(['Sierra Leone'])][['Value']].mean() \n",
    "sierra_cases_avg"
   ]
  },
  {
   "cell_type": "code",
   "execution_count": null,
   "metadata": {
    "id": "OpX6s0yueecR"
   },
   "outputs": [],
   "source": [
    "# Mode\n",
    "# ---\n",
    "# What was the most frequent value in the Ebola dataset?\n",
    "# ---\n",
    "# \n",
    "frequent_values_df = ebola_df['Country'].mode() \n",
    "frequent_values_df"
   ]
  },
  {
   "cell_type": "code",
   "execution_count": null,
   "metadata": {
    "id": "wWpB21E9CiJn"
   },
   "outputs": [],
   "source": [
    "# Median\n",
    "# ---\n",
    "# The median value of the Ebola cases.\n",
    "# ---\n",
    "# \n",
    "median_values_df = ebola_df['Value'].median() \n",
    "median_values_df"
   ]
  },
  {
   "cell_type": "code",
   "execution_count": null,
   "metadata": {
    "id": "KhVsLoBoedbc"
   },
   "outputs": [],
   "source": [
    "# Summary Statistics\n",
    "# ---\n",
    "# Create a descriptive statistics table of the given ebola dataset \n",
    "# in preparation for further analysis.\n",
    "# ---\n",
    "# \n",
    "ebola_df.describe()"
   ]
  },
  {
   "cell_type": "markdown",
   "metadata": {
    "id": "1mUNWEtSZsi9"
   },
   "source": [
    "### <font color=\"green\">Challenges</font>"
   ]
  },
  {
   "cell_type": "code",
   "execution_count": null,
   "metadata": {
    "id": "R-G7d9HyZsi_"
   },
   "outputs": [],
   "source": [
    "# Challenge 1\n",
    "# ---\n",
    "# How many records can be found in the following insurance dataset?\n",
    "# ---\n",
    "# Insurance Dataset url = https://bit.ly/2y5CRYc\n",
    "# ---\n",
    "# This dataset contains anonymised patient data.\n",
    "# ---\n",
    "# OUR CODE GOES BELOW\n",
    "# "
   ]
  },
  {
   "cell_type": "code",
   "execution_count": null,
   "metadata": {
    "id": "dl1KEjeoZsjB"
   },
   "outputs": [],
   "source": [
    "# Challenge 2\n",
    "# ---\n",
    "# Are there any duplicates in the insurance dataset?\n",
    "# ---\n",
    "# OUR CODE GOES BELOW\n",
    "# "
   ]
  },
  {
   "cell_type": "code",
   "execution_count": null,
   "metadata": {
    "id": "vDj1GABnZsjD"
   },
   "outputs": [],
   "source": [
    "# Challenge 3\n",
    "# ---\n",
    "# Which regions did the patients come from?\n",
    "# ---\n",
    "# OUR CODE GOES BELOW\n",
    "# "
   ]
  },
  {
   "cell_type": "code",
   "execution_count": null,
   "metadata": {
    "id": "TAtrNHs824ay"
   },
   "outputs": [],
   "source": [
    "# Challenge 4\n",
    "# ---\n",
    "# What was the highest bmi recorded for patients from northwest and southwest regions?\n",
    "# ---\n",
    "# OUR CODE GOES BELOW\n",
    "# "
   ]
  },
  {
   "cell_type": "code",
   "execution_count": null,
   "metadata": {
    "id": "tsloZ4Bo24P1"
   },
   "outputs": [],
   "source": [
    "# Challenge 5\n",
    "# ---\n",
    "# What was the youngest age of a patient?\n",
    "# ---\n",
    "# OUR CODE GOES BELOW\n",
    "#"
   ]
  },
  {
   "cell_type": "code",
   "execution_count": null,
   "metadata": {
    "id": "XffQqHOd24KD"
   },
   "outputs": [],
   "source": [
    "# Challenge 6\n",
    "# ---\n",
    "# What was the average bmi recorded for patients above 50 years old?\n",
    "# ---\n",
    "# OUR CODE GOES BELOW\n",
    "#"
   ]
  },
  {
   "cell_type": "code",
   "execution_count": null,
   "metadata": {
    "id": "2IULqwYi235v"
   },
   "outputs": [],
   "source": [
    "# Challenge 7\n",
    "# ---\n",
    "# How much was spent collectively by male and female patients?\n",
    "# ---\n",
    "# OUR CODE GOES BELOW\n",
    "#"
   ]
  },
  {
   "cell_type": "markdown",
   "metadata": {
    "id": "MojDFr9UZH05"
   },
   "source": [
    "## 6. Grouping"
   ]
  },
  {
   "cell_type": "markdown",
   "metadata": {
    "id": "iPIq_mwkZjUS"
   },
   "source": [
    "### Examples"
   ]
  },
  {
   "cell_type": "code",
   "execution_count": null,
   "metadata": {
    "id": "06M0UADbE13H"
   },
   "outputs": [],
   "source": [
    "# Let's first load and preview the dataset that we will need for our examples \n",
    "# ---\n",
    "#\n",
    "insurance_df = pd.read_csv('https://bit.ly/2y5CRYc')\n",
    "insurance_df.head()"
   ]
  },
  {
   "cell_type": "code",
   "execution_count": null,
   "metadata": {
    "id": "OO1t8mqJZjUT"
   },
   "outputs": [],
   "source": [
    "# Example 1\n",
    "# ---\n",
    "# The groupby() function is used to split the data into groups based on some criteria.\n",
    "# ---\n",
    "# We will start by grouping by a single column and including an aggregate function as shown.\n",
    "# ---\n",
    "# NB: We will not store any our dataframe in a variable for ease of\n",
    "# performing computations\n",
    "# ---\n",
    "#\n",
    "insurance_df.groupby('region').mean()"
   ]
  },
  {
   "cell_type": "code",
   "execution_count": null,
   "metadata": {
    "id": "LlsRE01jPsVi"
   },
   "outputs": [],
   "source": [
    "# Example 2\n",
    "# ---\n",
    "# We can get the first entry for each gender by doing the following\n",
    "# ---\n",
    "# NB: You can also get the last one too using last()\n",
    "# ---\n",
    "# \n",
    "insurance_df.groupby('sex').first()"
   ]
  },
  {
   "cell_type": "code",
   "execution_count": null,
   "metadata": {
    "id": "EbK46keMM8ny"
   },
   "outputs": [],
   "source": [
    "# Example 3\n",
    "# ---\n",
    "# We can group a single column by another column then apply an aggregate function as shown\n",
    "# ---\n",
    "# \n",
    "insurance_df['expenses'].groupby([insurance_df['sex']]).sum()\n",
    "\n",
    "# Method 2\n",
    "# ---\n",
    "# NB: The groupby output will have an index or multi-index on rows corresponding \n",
    "# to our chosen grouping variables. To avoid setting this index, \n",
    "# we pass “as_index = False” to the groupby operation\n",
    "# ---\n",
    "# insurance_df.groupby('sex', as_index = False)['expenses'].sum()"
   ]
  },
  {
   "cell_type": "code",
   "execution_count": null,
   "metadata": {
    "id": "e2HYu24NOb3B"
   },
   "outputs": [],
   "source": [
    "# Example 4\n",
    "# ---\n",
    "# We can group the region column by another column i.e. bmi then apply an aggregate function\n",
    "# as shown\n",
    "# ---\n",
    "#\n",
    "insurance_df['bmi'].groupby([insurance_df['region']]).mean()\n",
    "\n",
    "# Method 2\n",
    "# ---\n",
    "# insurance_df.groupby('region', as_index = False)['bmi'].mean()"
   ]
  },
  {
   "cell_type": "code",
   "execution_count": null,
   "metadata": {
    "id": "KlZPbe_wP_YW"
   },
   "outputs": [],
   "source": [
    "# Example 5\n",
    "# ---\n",
    "# We can create a summary statistical table as shown below\n",
    "# ---\n",
    "insurance_df['expenses'].groupby([insurance_df['region']]).describe()\n",
    "\n",
    "# Method 2\n",
    "# ---\n",
    "# insurance_df.groupby('region', as_index = False)['expenses'].describe()"
   ]
  },
  {
   "cell_type": "code",
   "execution_count": null,
   "metadata": {
    "id": "-pjNXDxMQg5W"
   },
   "outputs": [],
   "source": [
    "# Example 6\n",
    "# ---\n",
    "# Further seeing how we can group a column by another column as shown \n",
    "# \n",
    "insurance_df['children'].groupby([insurance_df['region']]).sum()\n",
    "\n",
    "# Method 2\n",
    "# ---\n",
    "#\n",
    "# insurance_df.groupby('region', as_index = False)['children'].sum()"
   ]
  },
  {
   "cell_type": "code",
   "execution_count": null,
   "metadata": {
    "id": "5JiJ-exNX0Uk"
   },
   "outputs": [],
   "source": [
    "# Example 7\n",
    "# ---\n",
    "# Applying multiple aggregate functions after grouping a column by another column\n",
    "# ---\n",
    "# \n",
    "insurance_df['expenses'].groupby([insurance_df['region']]).agg([min, max, sum])\n",
    "\n",
    "# Method 2\n",
    "# insurance_df.groupby(['region'], as_index = False).agg({'expenses': [min, max, sum] })"
   ]
  },
  {
   "cell_type": "code",
   "execution_count": null,
   "metadata": {
    "id": "dw7F3D8-Z7rQ"
   },
   "outputs": [],
   "source": [
    "# Example 8\n",
    "# ---\n",
    "# We can also apply multiple aggregate functions after grouping a column by another column\n",
    "# ---\n",
    "# \n",
    "insurance_df.groupby(['region', 'sex'], as_index = False).agg({'expenses': [min, max, sum] })"
   ]
  },
  {
   "cell_type": "code",
   "execution_count": null,
   "metadata": {
    "id": "S9Q79b2NRbuO"
   },
   "outputs": [],
   "source": [
    "# Example 9\n",
    "# ---\n",
    "# Grouping by of multiple columns and then applying an aggregate function\n",
    "# ---\n",
    "# \n",
    "insurance_df['expenses'].groupby([insurance_df['region'], insurance_df['sex']]).sum()\n",
    "\n",
    "# Method 2\n",
    "# ---\n",
    "# insurance_df.groupby(['region', 'sex'], as_index = False)['expenses'].sum()\n",
    "\n",
    "# Method 3\n",
    "# ---\n",
    "# insurance_df.groupby(['region', 'sex']).agg({'expenses': ['sum']})"
   ]
  },
  {
   "cell_type": "markdown",
   "metadata": {
    "id": "sWGVGLXeZtLH"
   },
   "source": [
    "### <font color=\"green\">Challenges</font>"
   ]
  },
  {
   "cell_type": "code",
   "execution_count": null,
   "metadata": {
    "id": "0ipcashTZtLI"
   },
   "outputs": [],
   "source": [
    "# Let's load and preview the dataset that we will use for the given challenges.\n",
    "# ---\n",
    "# The dataset contains customer invoice data.\n",
    "# ---\n",
    "# Dataset url = https://bit.ly/SuperMarketSalesDB\n",
    "# ---\n",
    "#  "
   ]
  },
  {
   "cell_type": "code",
   "execution_count": null,
   "metadata": {
    "id": "IrFwkaMuZtLK"
   },
   "outputs": [],
   "source": [
    "# Challenge 1\n",
    "# ---\n",
    "# Question: What was the average tax per city?\n",
    "# ---\n",
    "# OUR CODE GOES BELOW \n",
    "# "
   ]
  },
  {
   "cell_type": "code",
   "execution_count": null,
   "metadata": {
    "id": "KcuTMahpZtLM"
   },
   "outputs": [],
   "source": [
    "# Challenge 2\n",
    "# ---\n",
    "# Question: How much did female members from the city of Yagon spend?\n",
    "# ---\n",
    "# OUR CODE GOES BELOW \n",
    "# "
   ]
  },
  {
   "cell_type": "code",
   "execution_count": null,
   "metadata": {
    "id": "UuElKxR0o1ws"
   },
   "outputs": [],
   "source": [
    "# Challenge 3\n",
    "# ---\n",
    "# Question: How much was spent across all cities?\n",
    "# ---\n",
    "# OUR CODE GOES BELOW \n",
    "# "
   ]
  },
  {
   "cell_type": "code",
   "execution_count": null,
   "metadata": {
    "id": "_WtKM6mSo1j-"
   },
   "outputs": [],
   "source": [
    "# Challenge 4\n",
    "# ---\n",
    "# Question: What was the sum of goods sold across all branches?\n",
    "# ---\n",
    "# OUR CODE GOES BELOW \n",
    "# "
   ]
  },
  {
   "cell_type": "code",
   "execution_count": null,
   "metadata": {
    "id": "gpRpOLPAo1eE"
   },
   "outputs": [],
   "source": [
    "# Challenge 5\n",
    "# ---\n",
    "# Question: Which branches collected the most amount of money? \n",
    "# ---\n",
    "# OUR CODE GOES BELOW \n",
    "# "
   ]
  },
  {
   "cell_type": "code",
   "execution_count": null,
   "metadata": {
    "id": "KAhpUL2Ro1T5"
   },
   "outputs": [],
   "source": [
    "# Challenge 6\n",
    "# ---\n",
    "# Question: Which were the top rated branches?\n",
    "# ---\n",
    "# OUR CODE GOES BELOW \n",
    "# "
   ]
  },
  {
   "cell_type": "code",
   "execution_count": null,
   "metadata": {
    "id": "_NMGSpxlo1M3"
   },
   "outputs": [],
   "source": [
    "# Challenge 7\n",
    "# ---\n",
    "# Question: Make a comparison between non-members who made cash payments and credit card payments.\n",
    "# ---\n",
    "# OUR CODE GOES BELOW \n",
    "# "
   ]
  },
  {
   "cell_type": "code",
   "execution_count": null,
   "metadata": {
    "id": "k7c7R2Sfo08U"
   },
   "outputs": [],
   "source": [
    "# Challenge 8\n",
    "# ---\n",
    "# Question: Show the products line that sold the most indicating the rating.\n",
    "# ---\n",
    "# OUR CODE GOES BELOW \n",
    "# "
   ]
  },
  {
   "cell_type": "markdown",
   "metadata": {
    "id": "6XZbcORGZLd0"
   },
   "source": [
    "## 7. Pivot Tables"
   ]
  },
  {
   "cell_type": "markdown",
   "metadata": {
    "id": "xldYtGZ-Zjz5"
   },
   "source": [
    "### Examples"
   ]
  },
  {
   "cell_type": "code",
   "execution_count": null,
   "metadata": {
    "id": "XyNlcAEhZjz6"
   },
   "outputs": [],
   "source": [
    "# Example 1\n",
    "# ---\n",
    "# A pivot tables is a summary table and comprises of \n",
    "# outcomes similar to the group by tables.\n",
    "# --- \n",
    "# We will start working with pivot tables by getting one column \n",
    "# and applying an aggregate function as shown below\n",
    "# ---\n",
    "# \n",
    "pd.pivot_table(insurance_df, index=['region'], aggfunc='mean')"
   ]
  },
  {
   "cell_type": "code",
   "execution_count": null,
   "metadata": {
    "id": "E9eEtnPKZjz-"
   },
   "outputs": [],
   "source": [
    "# Example 2\n",
    "# ---\n",
    "# Getting the first entry for each gender\n",
    "# NB: You can get the last one too using last().\n",
    "# In addition, note the that the columns have been arranged alphabetically.\n",
    "# ---\n",
    "# \n",
    "pd.pivot_table(insurance_df, index=['sex'], aggfunc='first')"
   ]
  },
  {
   "cell_type": "code",
   "execution_count": null,
   "metadata": {
    "id": "XncXWHbLxNqv"
   },
   "outputs": [],
   "source": [
    "# Example 3\n",
    "# ---\n",
    "# We can group a single column by another column then apply an aggregate function as shown\n",
    "# ---\n",
    "# We will use numpy to compute the mean\n",
    "#\n",
    "pd.pivot_table(insurance_df, index=['sex'], aggfunc={'expenses': np.mean})"
   ]
  },
  {
   "cell_type": "code",
   "execution_count": null,
   "metadata": {
    "id": "ek2sW9X2zqwz"
   },
   "outputs": [],
   "source": [
    "# Example 4\n",
    "# ---\n",
    "# Grouping region by another column i.e. bmi, applying an aggregate function\n",
    "# ---\n",
    "#\n",
    "pd.pivot_table(insurance_df, index=['region'], aggfunc={'bmi': np.mean})"
   ]
  },
  {
   "cell_type": "code",
   "execution_count": null,
   "metadata": {
    "id": "ZfOhsM1I0bNu"
   },
   "outputs": [],
   "source": [
    "# Example 5\n",
    "# ---\n",
    "# Using a pivote table, we can also create a summary statistical table as shown below\n",
    "# ---\n",
    "#\n",
    "pd.pivot_table(insurance_df, index=['region'], aggfunc={'expenses': 'describe'})"
   ]
  },
  {
   "cell_type": "code",
   "execution_count": null,
   "metadata": {
    "id": "3_brcCVY3gHq"
   },
   "outputs": [],
   "source": [
    "# Example 6\n",
    "# ---\n",
    "# Getting the no. of children in each region\n",
    "# ---\n",
    "#  \n",
    "# \n",
    "pd.pivot_table(insurance_df, index=['region'], aggfunc={'children': sum}) "
   ]
  },
  {
   "cell_type": "code",
   "execution_count": null,
   "metadata": {
    "id": "ldDrVxC54Al8"
   },
   "outputs": [],
   "source": [
    "# Example 6\n",
    "# ---\n",
    "# Applying multiple aggregate functions to a group\n",
    "# ---\n",
    "# \n",
    "pd.pivot_table(insurance_df, index=['region', 'sex'], aggfunc={'expenses': [min, max, sum]})"
   ]
  },
  {
   "cell_type": "code",
   "execution_count": null,
   "metadata": {
    "id": "e1HkBiWr51y6"
   },
   "outputs": [],
   "source": [
    "# Example 7\n",
    "# ---\n",
    "# Applying multiple aggregate functions to a group\n",
    "# ---\n",
    "# \n",
    "pd.pivot_table(insurance_df, index=['region', 'sex'], aggfunc={'expenses': sum})"
   ]
  },
  {
   "cell_type": "markdown",
   "metadata": {
    "id": "q9c7In767vRZ"
   },
   "source": [
    "### <font color=\"green\">Challenges</font>"
   ]
  },
  {
   "cell_type": "markdown",
   "metadata": {
    "id": "WDtAMSQd7y3B"
   },
   "source": [
    "The challenges in this section will be same as the ones group by challenges. Compare your solutions with the ones you got in the previous section."
   ]
  },
  {
   "cell_type": "code",
   "execution_count": null,
   "metadata": {
    "id": "8U-l2XmL7vRd"
   },
   "outputs": [],
   "source": [
    "# You will use the supermarket dataset you previously used. \n",
    "# ---\n",
    "# The dataset contains customer invoice data.\n",
    "# ---\n",
    "# Dataset url = https://bit.ly/SuperMarketSalesDB\n",
    "# ---\n",
    "#  "
   ]
  },
  {
   "cell_type": "code",
   "execution_count": null,
   "metadata": {
    "id": "YQ47XAX67vRm"
   },
   "outputs": [],
   "source": [
    "# Challenge 1\n",
    "# ---\n",
    "# Question: What was the average tax per city?\n",
    "# ---\n",
    "# OUR CODE GOES BELOW \n",
    "# "
   ]
  },
  {
   "cell_type": "code",
   "execution_count": null,
   "metadata": {
    "id": "M54iMgRt7vRv"
   },
   "outputs": [],
   "source": [
    "# Challenge 2\n",
    "# ---\n",
    "# Question: How much did female members from the city of Yagon spend?\n",
    "# ---\n",
    "# OUR CODE GOES BELOW \n",
    "# "
   ]
  },
  {
   "cell_type": "code",
   "execution_count": null,
   "metadata": {
    "id": "n7ua8NHY7vSI"
   },
   "outputs": [],
   "source": [
    "# Challenge 3\n",
    "# ---\n",
    "# Question: How much was spent across all cities?\n",
    "# ---\n",
    "# OUR CODE GOES BELOW \n",
    "# "
   ]
  },
  {
   "cell_type": "code",
   "execution_count": null,
   "metadata": {
    "id": "F4Cdnyqb7vSN"
   },
   "outputs": [],
   "source": [
    "# Challenge 4\n",
    "# ---\n",
    "# Question: What was the sum of goods sold across all branches?\n",
    "# ---\n",
    "# OUR CODE GOES BELOW \n",
    "# "
   ]
  },
  {
   "cell_type": "code",
   "execution_count": null,
   "metadata": {
    "id": "BiqXSy4Q7vSS"
   },
   "outputs": [],
   "source": [
    "# Challenge 5\n",
    "# ---\n",
    "# Question: Which branches collected the most amount of money? \n",
    "# ---\n",
    "# OUR CODE GOES BELOW \n",
    "# "
   ]
  },
  {
   "cell_type": "code",
   "execution_count": null,
   "metadata": {
    "id": "PXKJv3tW7vSY"
   },
   "outputs": [],
   "source": [
    "# Challenge 6\n",
    "# ---\n",
    "# Question: Which were the top rated branches?\n",
    "# ---\n",
    "# OUR CODE GOES BELOW \n",
    "# "
   ]
  },
  {
   "cell_type": "code",
   "execution_count": null,
   "metadata": {
    "id": "0MF7tVGR7vSd"
   },
   "outputs": [],
   "source": [
    "# Challenge 7\n",
    "# ---\n",
    "# Question: Make a comparison between non-members who made cash payments and credit card payments.\n",
    "# ---\n",
    "# OUR CODE GOES BELOW \n",
    "# "
   ]
  },
  {
   "cell_type": "code",
   "execution_count": null,
   "metadata": {
    "id": "v_YYoGhh7vSj"
   },
   "outputs": [],
   "source": [
    "# Challenge 8\n",
    "# ---\n",
    "# Question: Show the products line that sold the most indicating the rating.\n",
    "# ---\n",
    "# OUR CODE GOES BELOW \n",
    "# "
   ]
  }
 ],
 "metadata": {
  "colab": {
   "collapsed_sections": [
    "AzLPOliHYP0V",
    "p5-vSSK2YRvv",
    "AKFUFX9oYYlz",
    "8qPMH6tKZQCL",
    "K7XZ0lfDZSfE",
    "vjKU2wFjYseF",
    "mcBYkd2dZeRm",
    "amveijHvZqGL",
    "InG0BnDgYxUo",
    "JFmLS0JcZfyU",
    "4S6nBEpDZq6E",
    "mxCkESI_ZA5A",
    "iDnNGL-mZhJ9",
    "qP3PtIAAZsBG",
    "YC9AVuitZFD8",
    "UxbUs5stZiZs",
    "1mUNWEtSZsi9",
    "MojDFr9UZH05",
    "iPIq_mwkZjUS",
    "sWGVGLXeZtLH",
    "6XZbcORGZLd0",
    "xldYtGZ-Zjz5",
    "q9c7In767vRZ"
   ],
   "provenance": [],
   "toc_visible": true
  },
  "kernelspec": {
   "display_name": "Python 3 (ipykernel)",
   "language": "python",
   "name": "python3"
  },
  "language_info": {
   "codemirror_mode": {
    "name": "ipython",
    "version": 3
   },
   "file_extension": ".py",
   "mimetype": "text/x-python",
   "name": "python",
   "nbconvert_exporter": "python",
   "pygments_lexer": "ipython3",
   "version": "3.9.12"
  },
  "vscode": {
   "interpreter": {
    "hash": "b0110ce229cb207ddb9b0dff5e36830f20fa7483e4a3a6d9ec374c321c26f348"
   }
  }
 },
 "nbformat": 4,
 "nbformat_minor": 1
}
