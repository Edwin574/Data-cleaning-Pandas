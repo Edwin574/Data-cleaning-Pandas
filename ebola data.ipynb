{
 "cells": [
  {
   "cell_type": "code",
   "execution_count": 1,
   "metadata": {},
   "outputs": [],
   "source": [
    "#imports\n",
    "import pandas as pd\n",
    "import numpy as np\n"
   ]
  },
  {
   "cell_type": "code",
   "execution_count": 2,
   "metadata": {},
   "outputs": [
    {
     "name": "stdout",
     "output_type": "stream",
     "text": [
      "  Country  Month  Year   Lat  Lon   Value\n",
      "0  Guinea      3    14  9.95 -9.7   122.0\n",
      "1  Guinea      4    14  9.95 -9.7   224.0\n",
      "2  Guinea      5    14  9.95 -9.7   291.0\n",
      "3  Guinea      6    14  9.95 -9.7   413.0\n",
      "4  Guinea      7    14  9.95 -9.7   460.0\n",
      "5  Guinea      8    14  9.95 -9.7   771.0\n",
      "6  Guinea      9    14  9.95 -9.7  1022.0\n",
      "7  Guinea     10    14  9.95 -9.7     NaN\n",
      "8  Guinea     11    14  9.95 -9.7     NaN\n",
      "9  Guinea     12    14  9.95 -9.7     NaN\n"
     ]
    }
   ],
   "source": [
    "ebola_df=pd.read_csv('https://bit.ly/2T60DKG')\n",
    "ebola_first=ebola_df.head(10) #first ten records\n",
    "\n",
    "ebola_last=ebola_df.tail(10) #last ten records\n",
    "\n",
    "ebola_sample=ebola_df.sample(20) #samplng 20 data sets\n",
    "\n",
    "print(ebola_first)"
   ]
  },
  {
   "cell_type": "code",
   "execution_count": 3,
   "metadata": {},
   "outputs": [
    {
     "data": {
      "text/html": [
       "<div>\n",
       "<style scoped>\n",
       "    .dataframe tbody tr th:only-of-type {\n",
       "        vertical-align: middle;\n",
       "    }\n",
       "\n",
       "    .dataframe tbody tr th {\n",
       "        vertical-align: top;\n",
       "    }\n",
       "\n",
       "    .dataframe thead th {\n",
       "        text-align: right;\n",
       "    }\n",
       "</style>\n",
       "<table border=\"1\" class=\"dataframe\">\n",
       "  <thead>\n",
       "    <tr style=\"text-align: right;\">\n",
       "      <th></th>\n",
       "      <th>Country</th>\n",
       "      <th>Month</th>\n",
       "      <th>Value</th>\n",
       "    </tr>\n",
       "  </thead>\n",
       "  <tbody>\n",
       "    <tr>\n",
       "      <th>0</th>\n",
       "      <td>Guinea</td>\n",
       "      <td>3</td>\n",
       "      <td>122.0</td>\n",
       "    </tr>\n",
       "    <tr>\n",
       "      <th>1</th>\n",
       "      <td>Guinea</td>\n",
       "      <td>4</td>\n",
       "      <td>224.0</td>\n",
       "    </tr>\n",
       "    <tr>\n",
       "      <th>2</th>\n",
       "      <td>Guinea</td>\n",
       "      <td>5</td>\n",
       "      <td>291.0</td>\n",
       "    </tr>\n",
       "    <tr>\n",
       "      <th>3</th>\n",
       "      <td>Guinea</td>\n",
       "      <td>6</td>\n",
       "      <td>413.0</td>\n",
       "    </tr>\n",
       "    <tr>\n",
       "      <th>4</th>\n",
       "      <td>Guinea</td>\n",
       "      <td>7</td>\n",
       "      <td>460.0</td>\n",
       "    </tr>\n",
       "  </tbody>\n",
       "</table>\n",
       "</div>"
      ],
      "text/plain": [
       "  Country  Month  Value\n",
       "0  Guinea      3  122.0\n",
       "1  Guinea      4  224.0\n",
       "2  Guinea      5  291.0\n",
       "3  Guinea      6  413.0\n",
       "4  Guinea      7  460.0"
      ]
     },
     "execution_count": 3,
     "metadata": {},
     "output_type": "execute_result"
    }
   ],
   "source": [
    "#SELECTING COLUMNS\n",
    "\n",
    "#METHOD 1\n",
    "\n",
    "ebola_value_col=ebola_df[['Value']]  #one column\n",
    "# ebola_value_col.head()\n",
    "\n",
    "ebola_multiple_col=ebola_df[['Country','Month','Value']] #multiple columns\n",
    "ebola_multiple_col.head()\n",
    "\n"
   ]
  },
  {
   "cell_type": "code",
   "execution_count": 4,
   "metadata": {},
   "outputs": [
    {
     "data": {
      "text/html": [
       "<div>\n",
       "<style scoped>\n",
       "    .dataframe tbody tr th:only-of-type {\n",
       "        vertical-align: middle;\n",
       "    }\n",
       "\n",
       "    .dataframe tbody tr th {\n",
       "        vertical-align: top;\n",
       "    }\n",
       "\n",
       "    .dataframe thead th {\n",
       "        text-align: right;\n",
       "    }\n",
       "</style>\n",
       "<table border=\"1\" class=\"dataframe\">\n",
       "  <thead>\n",
       "    <tr style=\"text-align: right;\">\n",
       "      <th></th>\n",
       "      <th>Country</th>\n",
       "      <th>Month</th>\n",
       "      <th>Year</th>\n",
       "      <th>Lat</th>\n",
       "    </tr>\n",
       "  </thead>\n",
       "  <tbody>\n",
       "    <tr>\n",
       "      <th>0</th>\n",
       "      <td>Guinea</td>\n",
       "      <td>3</td>\n",
       "      <td>14</td>\n",
       "      <td>9.95</td>\n",
       "    </tr>\n",
       "    <tr>\n",
       "      <th>1</th>\n",
       "      <td>Guinea</td>\n",
       "      <td>4</td>\n",
       "      <td>14</td>\n",
       "      <td>9.95</td>\n",
       "    </tr>\n",
       "    <tr>\n",
       "      <th>2</th>\n",
       "      <td>Guinea</td>\n",
       "      <td>5</td>\n",
       "      <td>14</td>\n",
       "      <td>9.95</td>\n",
       "    </tr>\n",
       "    <tr>\n",
       "      <th>3</th>\n",
       "      <td>Guinea</td>\n",
       "      <td>6</td>\n",
       "      <td>14</td>\n",
       "      <td>9.95</td>\n",
       "    </tr>\n",
       "    <tr>\n",
       "      <th>4</th>\n",
       "      <td>Guinea</td>\n",
       "      <td>7</td>\n",
       "      <td>14</td>\n",
       "      <td>9.95</td>\n",
       "    </tr>\n",
       "  </tbody>\n",
       "</table>\n",
       "</div>"
      ],
      "text/plain": [
       "  Country  Month  Year   Lat\n",
       "0  Guinea      3    14  9.95\n",
       "1  Guinea      4    14  9.95\n",
       "2  Guinea      5    14  9.95\n",
       "3  Guinea      6    14  9.95\n",
       "4  Guinea      7    14  9.95"
      ]
     },
     "execution_count": 4,
     "metadata": {},
     "output_type": "execute_result"
    }
   ],
   "source": [
    "#METHOD 2\n",
    "ebola_columns=ebola_df.iloc[:,0:4]  #first four columns\n",
    "ebola_columns.head()"
   ]
  },
  {
   "cell_type": "code",
   "execution_count": null,
   "metadata": {},
   "outputs": [],
   "source": [
    "#METHOD 3 :SELECTING COLUMNS WITH UNIQUE VALUES\n",
    "\n",
    "ebola_countries=ebola_df['Country'].unique()\n",
    "list(ebola_countries)"
   ]
  },
  {
   "cell_type": "code",
   "execution_count": 5,
   "metadata": {},
   "outputs": [
    {
     "data": {
      "text/html": [
       "<div>\n",
       "<style scoped>\n",
       "    .dataframe tbody tr th:only-of-type {\n",
       "        vertical-align: middle;\n",
       "    }\n",
       "\n",
       "    .dataframe tbody tr th {\n",
       "        vertical-align: top;\n",
       "    }\n",
       "\n",
       "    .dataframe thead th {\n",
       "        text-align: right;\n",
       "    }\n",
       "</style>\n",
       "<table border=\"1\" class=\"dataframe\">\n",
       "  <thead>\n",
       "    <tr style=\"text-align: right;\">\n",
       "      <th></th>\n",
       "      <th>Country</th>\n",
       "      <th>Month</th>\n",
       "      <th>Year</th>\n",
       "      <th>Lat</th>\n",
       "      <th>Lon</th>\n",
       "      <th>Value</th>\n",
       "    </tr>\n",
       "  </thead>\n",
       "  <tbody>\n",
       "    <tr>\n",
       "      <th>10</th>\n",
       "      <td>Liberia</td>\n",
       "      <td>4</td>\n",
       "      <td>14</td>\n",
       "      <td>6.43</td>\n",
       "      <td>-9.43</td>\n",
       "      <td>35.0</td>\n",
       "    </tr>\n",
       "    <tr>\n",
       "      <th>11</th>\n",
       "      <td>Liberia</td>\n",
       "      <td>5</td>\n",
       "      <td>14</td>\n",
       "      <td>6.43</td>\n",
       "      <td>-9.43</td>\n",
       "      <td>13.0</td>\n",
       "    </tr>\n",
       "    <tr>\n",
       "      <th>12</th>\n",
       "      <td>Liberia</td>\n",
       "      <td>6</td>\n",
       "      <td>14</td>\n",
       "      <td>6.43</td>\n",
       "      <td>-9.43</td>\n",
       "      <td>107.0</td>\n",
       "    </tr>\n",
       "    <tr>\n",
       "      <th>13</th>\n",
       "      <td>Liberia</td>\n",
       "      <td>7</td>\n",
       "      <td>14</td>\n",
       "      <td>6.43</td>\n",
       "      <td>-9.43</td>\n",
       "      <td>329.0</td>\n",
       "    </tr>\n",
       "    <tr>\n",
       "      <th>14</th>\n",
       "      <td>Liberia</td>\n",
       "      <td>8</td>\n",
       "      <td>14</td>\n",
       "      <td>6.43</td>\n",
       "      <td>-9.43</td>\n",
       "      <td>1395.0</td>\n",
       "    </tr>\n",
       "    <tr>\n",
       "      <th>15</th>\n",
       "      <td>Liberia</td>\n",
       "      <td>9</td>\n",
       "      <td>14</td>\n",
       "      <td>6.43</td>\n",
       "      <td>-9.43</td>\n",
       "      <td>3362.0</td>\n",
       "    </tr>\n",
       "    <tr>\n",
       "      <th>16</th>\n",
       "      <td>Liberia</td>\n",
       "      <td>10</td>\n",
       "      <td>14</td>\n",
       "      <td>6.43</td>\n",
       "      <td>-9.43</td>\n",
       "      <td>NaN</td>\n",
       "    </tr>\n",
       "    <tr>\n",
       "      <th>17</th>\n",
       "      <td>Liberia</td>\n",
       "      <td>11</td>\n",
       "      <td>14</td>\n",
       "      <td>6.43</td>\n",
       "      <td>-9.43</td>\n",
       "      <td>NaN</td>\n",
       "    </tr>\n",
       "    <tr>\n",
       "      <th>18</th>\n",
       "      <td>Liberia</td>\n",
       "      <td>12</td>\n",
       "      <td>14</td>\n",
       "      <td>6.43</td>\n",
       "      <td>-9.43</td>\n",
       "      <td>NaN</td>\n",
       "    </tr>\n",
       "  </tbody>\n",
       "</table>\n",
       "</div>"
      ],
      "text/plain": [
       "    Country  Month  Year   Lat   Lon   Value\n",
       "10  Liberia      4    14  6.43 -9.43    35.0\n",
       "11  Liberia      5    14  6.43 -9.43    13.0\n",
       "12  Liberia      6    14  6.43 -9.43   107.0\n",
       "13  Liberia      7    14  6.43 -9.43   329.0\n",
       "14  Liberia      8    14  6.43 -9.43  1395.0\n",
       "15  Liberia      9    14  6.43 -9.43  3362.0\n",
       "16  Liberia     10    14  6.43 -9.43     NaN\n",
       "17  Liberia     11    14  6.43 -9.43     NaN\n",
       "18  Liberia     12    14  6.43 -9.43     NaN"
      ]
     },
     "execution_count": 5,
     "metadata": {},
     "output_type": "execute_result"
    }
   ],
   "source": [
    "\n",
    "#selecting columns with certain specific values\n",
    "liberia_records = ebola_df[ebola_df.Country.isin(['Liberia'])]\n",
    "\n",
    "liberia_records"
   ]
  },
  {
   "cell_type": "code",
   "execution_count": 6,
   "metadata": {},
   "outputs": [
    {
     "data": {
      "text/html": [
       "<div>\n",
       "<style scoped>\n",
       "    .dataframe tbody tr th:only-of-type {\n",
       "        vertical-align: middle;\n",
       "    }\n",
       "\n",
       "    .dataframe tbody tr th {\n",
       "        vertical-align: top;\n",
       "    }\n",
       "\n",
       "    .dataframe thead th {\n",
       "        text-align: right;\n",
       "    }\n",
       "</style>\n",
       "<table border=\"1\" class=\"dataframe\">\n",
       "  <thead>\n",
       "    <tr style=\"text-align: right;\">\n",
       "      <th></th>\n",
       "      <th>Country</th>\n",
       "      <th>Month</th>\n",
       "      <th>Year</th>\n",
       "      <th>Lat</th>\n",
       "      <th>Lon</th>\n",
       "      <th>Value</th>\n",
       "    </tr>\n",
       "  </thead>\n",
       "  <tbody>\n",
       "    <tr>\n",
       "      <th>0</th>\n",
       "      <td>Guinea</td>\n",
       "      <td>3</td>\n",
       "      <td>14</td>\n",
       "      <td>9.95</td>\n",
       "      <td>-9.70</td>\n",
       "      <td>122.0</td>\n",
       "    </tr>\n",
       "    <tr>\n",
       "      <th>1</th>\n",
       "      <td>Guinea</td>\n",
       "      <td>4</td>\n",
       "      <td>14</td>\n",
       "      <td>9.95</td>\n",
       "      <td>-9.70</td>\n",
       "      <td>224.0</td>\n",
       "    </tr>\n",
       "    <tr>\n",
       "      <th>2</th>\n",
       "      <td>Guinea</td>\n",
       "      <td>5</td>\n",
       "      <td>14</td>\n",
       "      <td>9.95</td>\n",
       "      <td>-9.70</td>\n",
       "      <td>291.0</td>\n",
       "    </tr>\n",
       "    <tr>\n",
       "      <th>3</th>\n",
       "      <td>Guinea</td>\n",
       "      <td>6</td>\n",
       "      <td>14</td>\n",
       "      <td>9.95</td>\n",
       "      <td>-9.70</td>\n",
       "      <td>413.0</td>\n",
       "    </tr>\n",
       "    <tr>\n",
       "      <th>4</th>\n",
       "      <td>Guinea</td>\n",
       "      <td>7</td>\n",
       "      <td>14</td>\n",
       "      <td>9.95</td>\n",
       "      <td>-9.70</td>\n",
       "      <td>460.0</td>\n",
       "    </tr>\n",
       "    <tr>\n",
       "      <th>5</th>\n",
       "      <td>Guinea</td>\n",
       "      <td>8</td>\n",
       "      <td>14</td>\n",
       "      <td>9.95</td>\n",
       "      <td>-9.70</td>\n",
       "      <td>771.0</td>\n",
       "    </tr>\n",
       "    <tr>\n",
       "      <th>6</th>\n",
       "      <td>Guinea</td>\n",
       "      <td>9</td>\n",
       "      <td>14</td>\n",
       "      <td>9.95</td>\n",
       "      <td>-9.70</td>\n",
       "      <td>1022.0</td>\n",
       "    </tr>\n",
       "    <tr>\n",
       "      <th>7</th>\n",
       "      <td>Guinea</td>\n",
       "      <td>10</td>\n",
       "      <td>14</td>\n",
       "      <td>9.95</td>\n",
       "      <td>-9.70</td>\n",
       "      <td>NaN</td>\n",
       "    </tr>\n",
       "    <tr>\n",
       "      <th>8</th>\n",
       "      <td>Guinea</td>\n",
       "      <td>11</td>\n",
       "      <td>14</td>\n",
       "      <td>9.95</td>\n",
       "      <td>-9.70</td>\n",
       "      <td>NaN</td>\n",
       "    </tr>\n",
       "    <tr>\n",
       "      <th>9</th>\n",
       "      <td>Guinea</td>\n",
       "      <td>12</td>\n",
       "      <td>14</td>\n",
       "      <td>9.95</td>\n",
       "      <td>-9.70</td>\n",
       "      <td>NaN</td>\n",
       "    </tr>\n",
       "    <tr>\n",
       "      <th>19</th>\n",
       "      <td>Mali</td>\n",
       "      <td>10</td>\n",
       "      <td>14</td>\n",
       "      <td>17.57</td>\n",
       "      <td>-4.00</td>\n",
       "      <td>1.0</td>\n",
       "    </tr>\n",
       "    <tr>\n",
       "      <th>20</th>\n",
       "      <td>Mali</td>\n",
       "      <td>11</td>\n",
       "      <td>14</td>\n",
       "      <td>17.57</td>\n",
       "      <td>-4.00</td>\n",
       "      <td>8.0</td>\n",
       "    </tr>\n",
       "    <tr>\n",
       "      <th>21</th>\n",
       "      <td>Senegal</td>\n",
       "      <td>8</td>\n",
       "      <td>14</td>\n",
       "      <td>14.50</td>\n",
       "      <td>-14.45</td>\n",
       "      <td>1.0</td>\n",
       "    </tr>\n",
       "    <tr>\n",
       "      <th>22</th>\n",
       "      <td>Senegal</td>\n",
       "      <td>9</td>\n",
       "      <td>14</td>\n",
       "      <td>14.50</td>\n",
       "      <td>-14.45</td>\n",
       "      <td>3.0</td>\n",
       "    </tr>\n",
       "    <tr>\n",
       "      <th>23</th>\n",
       "      <td>Sierra Leone</td>\n",
       "      <td>5</td>\n",
       "      <td>14</td>\n",
       "      <td>8.46</td>\n",
       "      <td>-11.78</td>\n",
       "      <td>50.0</td>\n",
       "    </tr>\n",
       "    <tr>\n",
       "      <th>24</th>\n",
       "      <td>Sierra Leone</td>\n",
       "      <td>6</td>\n",
       "      <td>14</td>\n",
       "      <td>8.46</td>\n",
       "      <td>-11.78</td>\n",
       "      <td>239.0</td>\n",
       "    </tr>\n",
       "    <tr>\n",
       "      <th>25</th>\n",
       "      <td>Sierra Leone</td>\n",
       "      <td>7</td>\n",
       "      <td>14</td>\n",
       "      <td>8.46</td>\n",
       "      <td>-11.78</td>\n",
       "      <td>533.0</td>\n",
       "    </tr>\n",
       "    <tr>\n",
       "      <th>26</th>\n",
       "      <td>Sierra Leone</td>\n",
       "      <td>8</td>\n",
       "      <td>14</td>\n",
       "      <td>8.46</td>\n",
       "      <td>-11.78</td>\n",
       "      <td>1216.0</td>\n",
       "    </tr>\n",
       "    <tr>\n",
       "      <th>27</th>\n",
       "      <td>Sierra Leone</td>\n",
       "      <td>9</td>\n",
       "      <td>14</td>\n",
       "      <td>8.46</td>\n",
       "      <td>-11.78</td>\n",
       "      <td>1940.0</td>\n",
       "    </tr>\n",
       "    <tr>\n",
       "      <th>28</th>\n",
       "      <td>Sierra Leone</td>\n",
       "      <td>10</td>\n",
       "      <td>14</td>\n",
       "      <td>8.46</td>\n",
       "      <td>-11.78</td>\n",
       "      <td>NaN</td>\n",
       "    </tr>\n",
       "    <tr>\n",
       "      <th>29</th>\n",
       "      <td>Sierra Leone</td>\n",
       "      <td>11</td>\n",
       "      <td>14</td>\n",
       "      <td>8.46</td>\n",
       "      <td>-11.78</td>\n",
       "      <td>NaN</td>\n",
       "    </tr>\n",
       "    <tr>\n",
       "      <th>30</th>\n",
       "      <td>Sierra Leone</td>\n",
       "      <td>12</td>\n",
       "      <td>14</td>\n",
       "      <td>8.46</td>\n",
       "      <td>-11.78</td>\n",
       "      <td>NaN</td>\n",
       "    </tr>\n",
       "  </tbody>\n",
       "</table>\n",
       "</div>"
      ],
      "text/plain": [
       "         Country  Month  Year    Lat    Lon   Value\n",
       "0         Guinea      3    14   9.95  -9.70   122.0\n",
       "1         Guinea      4    14   9.95  -9.70   224.0\n",
       "2         Guinea      5    14   9.95  -9.70   291.0\n",
       "3         Guinea      6    14   9.95  -9.70   413.0\n",
       "4         Guinea      7    14   9.95  -9.70   460.0\n",
       "5         Guinea      8    14   9.95  -9.70   771.0\n",
       "6         Guinea      9    14   9.95  -9.70  1022.0\n",
       "7         Guinea     10    14   9.95  -9.70     NaN\n",
       "8         Guinea     11    14   9.95  -9.70     NaN\n",
       "9         Guinea     12    14   9.95  -9.70     NaN\n",
       "19          Mali     10    14  17.57  -4.00     1.0\n",
       "20          Mali     11    14  17.57  -4.00     8.0\n",
       "21       Senegal      8    14  14.50 -14.45     1.0\n",
       "22       Senegal      9    14  14.50 -14.45     3.0\n",
       "23  Sierra Leone      5    14   8.46 -11.78    50.0\n",
       "24  Sierra Leone      6    14   8.46 -11.78   239.0\n",
       "25  Sierra Leone      7    14   8.46 -11.78   533.0\n",
       "26  Sierra Leone      8    14   8.46 -11.78  1216.0\n",
       "27  Sierra Leone      9    14   8.46 -11.78  1940.0\n",
       "28  Sierra Leone     10    14   8.46 -11.78     NaN\n",
       "29  Sierra Leone     11    14   8.46 -11.78     NaN\n",
       "30  Sierra Leone     12    14   8.46 -11.78     NaN"
      ]
     },
     "execution_count": 6,
     "metadata": {},
     "output_type": "execute_result"
    }
   ],
   "source": [
    "#selecting oother records other than Liberia using the NOT operator\n",
    "other_Records = ebola_df[~ebola_df.Country.isin(['Liberia'])]\n",
    "\n",
    "other_Records"
   ]
  },
  {
   "cell_type": "code",
   "execution_count": 7,
   "metadata": {},
   "outputs": [
    {
     "data": {
      "text/html": [
       "<div>\n",
       "<style scoped>\n",
       "    .dataframe tbody tr th:only-of-type {\n",
       "        vertical-align: middle;\n",
       "    }\n",
       "\n",
       "    .dataframe tbody tr th {\n",
       "        vertical-align: top;\n",
       "    }\n",
       "\n",
       "    .dataframe thead th {\n",
       "        text-align: right;\n",
       "    }\n",
       "</style>\n",
       "<table border=\"1\" class=\"dataframe\">\n",
       "  <thead>\n",
       "    <tr style=\"text-align: right;\">\n",
       "      <th></th>\n",
       "      <th>Country</th>\n",
       "      <th>Month</th>\n",
       "      <th>Year</th>\n",
       "      <th>Lat</th>\n",
       "      <th>Lon</th>\n",
       "      <th>Value</th>\n",
       "    </tr>\n",
       "  </thead>\n",
       "  <tbody>\n",
       "    <tr>\n",
       "      <th>0</th>\n",
       "      <td>Guinea</td>\n",
       "      <td>3</td>\n",
       "      <td>14</td>\n",
       "      <td>9.95</td>\n",
       "      <td>-9.7</td>\n",
       "      <td>122.0</td>\n",
       "    </tr>\n",
       "    <tr>\n",
       "      <th>1</th>\n",
       "      <td>Guinea</td>\n",
       "      <td>4</td>\n",
       "      <td>14</td>\n",
       "      <td>9.95</td>\n",
       "      <td>-9.7</td>\n",
       "      <td>224.0</td>\n",
       "    </tr>\n",
       "    <tr>\n",
       "      <th>2</th>\n",
       "      <td>Guinea</td>\n",
       "      <td>5</td>\n",
       "      <td>14</td>\n",
       "      <td>9.95</td>\n",
       "      <td>-9.7</td>\n",
       "      <td>291.0</td>\n",
       "    </tr>\n",
       "    <tr>\n",
       "      <th>3</th>\n",
       "      <td>Guinea</td>\n",
       "      <td>6</td>\n",
       "      <td>14</td>\n",
       "      <td>9.95</td>\n",
       "      <td>-9.7</td>\n",
       "      <td>413.0</td>\n",
       "    </tr>\n",
       "    <tr>\n",
       "      <th>4</th>\n",
       "      <td>Guinea</td>\n",
       "      <td>7</td>\n",
       "      <td>14</td>\n",
       "      <td>9.95</td>\n",
       "      <td>-9.7</td>\n",
       "      <td>460.0</td>\n",
       "    </tr>\n",
       "  </tbody>\n",
       "</table>\n",
       "</div>"
      ],
      "text/plain": [
       "  Country  Month  Year   Lat  Lon  Value\n",
       "0  Guinea      3    14  9.95 -9.7  122.0\n",
       "1  Guinea      4    14  9.95 -9.7  224.0\n",
       "2  Guinea      5    14  9.95 -9.7  291.0\n",
       "3  Guinea      6    14  9.95 -9.7  413.0\n",
       "4  Guinea      7    14  9.95 -9.7  460.0"
      ]
     },
     "execution_count": 7,
     "metadata": {},
     "output_type": "execute_result"
    }
   ],
   "source": [
    "#SORTING PARTICULAR RECORDS IN ASCENDING OR DESCENDING ORDER\n",
    "\n",
    "# From the ebola dataset sort the Guinea records in descending order\n",
    "guinea_records=ebola_df[ebola_df.Country.isin(['Guinea'])].sort_values(by='Value',ascending=1)\n",
    "guinea_records.head()\n",
    "\n"
   ]
  },
  {
   "cell_type": "code",
   "execution_count": 8,
   "metadata": {},
   "outputs": [
    {
     "data": {
      "text/html": [
       "<div>\n",
       "<style scoped>\n",
       "    .dataframe tbody tr th:only-of-type {\n",
       "        vertical-align: middle;\n",
       "    }\n",
       "\n",
       "    .dataframe tbody tr th {\n",
       "        vertical-align: top;\n",
       "    }\n",
       "\n",
       "    .dataframe thead th {\n",
       "        text-align: right;\n",
       "    }\n",
       "</style>\n",
       "<table border=\"1\" class=\"dataframe\">\n",
       "  <thead>\n",
       "    <tr style=\"text-align: right;\">\n",
       "      <th></th>\n",
       "      <th>Country</th>\n",
       "      <th>Month</th>\n",
       "      <th>Year</th>\n",
       "      <th>Lat</th>\n",
       "      <th>Lon</th>\n",
       "      <th>Value</th>\n",
       "      <th>Rank</th>\n",
       "    </tr>\n",
       "  </thead>\n",
       "  <tbody>\n",
       "    <tr>\n",
       "      <th>0</th>\n",
       "      <td>Guinea</td>\n",
       "      <td>3</td>\n",
       "      <td>14</td>\n",
       "      <td>9.95</td>\n",
       "      <td>-9.7</td>\n",
       "      <td>122.0</td>\n",
       "      <td>9.0</td>\n",
       "    </tr>\n",
       "    <tr>\n",
       "      <th>1</th>\n",
       "      <td>Guinea</td>\n",
       "      <td>4</td>\n",
       "      <td>14</td>\n",
       "      <td>9.95</td>\n",
       "      <td>-9.7</td>\n",
       "      <td>224.0</td>\n",
       "      <td>10.0</td>\n",
       "    </tr>\n",
       "    <tr>\n",
       "      <th>2</th>\n",
       "      <td>Guinea</td>\n",
       "      <td>5</td>\n",
       "      <td>14</td>\n",
       "      <td>9.95</td>\n",
       "      <td>-9.7</td>\n",
       "      <td>291.0</td>\n",
       "      <td>12.0</td>\n",
       "    </tr>\n",
       "    <tr>\n",
       "      <th>3</th>\n",
       "      <td>Guinea</td>\n",
       "      <td>6</td>\n",
       "      <td>14</td>\n",
       "      <td>9.95</td>\n",
       "      <td>-9.7</td>\n",
       "      <td>413.0</td>\n",
       "      <td>14.0</td>\n",
       "    </tr>\n",
       "    <tr>\n",
       "      <th>4</th>\n",
       "      <td>Guinea</td>\n",
       "      <td>7</td>\n",
       "      <td>14</td>\n",
       "      <td>9.95</td>\n",
       "      <td>-9.7</td>\n",
       "      <td>460.0</td>\n",
       "      <td>15.0</td>\n",
       "    </tr>\n",
       "  </tbody>\n",
       "</table>\n",
       "</div>"
      ],
      "text/plain": [
       "  Country  Month  Year   Lat  Lon  Value  Rank\n",
       "0  Guinea      3    14  9.95 -9.7  122.0   9.0\n",
       "1  Guinea      4    14  9.95 -9.7  224.0  10.0\n",
       "2  Guinea      5    14  9.95 -9.7  291.0  12.0\n",
       "3  Guinea      6    14  9.95 -9.7  413.0  14.0\n",
       "4  Guinea      7    14  9.95 -9.7  460.0  15.0"
      ]
     },
     "execution_count": 8,
     "metadata": {},
     "output_type": "execute_result"
    }
   ],
   "source": [
    "#   RANKING A DATA SET AND CREATING A COLUMN FOR THE RANK\n",
    "#ranking the ebola data frame by value column data in ascending order\n",
    "ebola_df['Rank']=ebola_df['Value'].rank(ascending=1)\n",
    "ebola_df.head()"
   ]
  },
  {
   "cell_type": "markdown",
   "metadata": {},
   "source": [
    "AGGREGATE FUNCTIONS"
   ]
  },
  {
   "cell_type": "code",
   "execution_count": 9,
   "metadata": {},
   "outputs": [
    {
     "data": {
      "text/plain": [
       "(9, 6)"
      ]
     },
     "execution_count": 9,
     "metadata": {},
     "output_type": "execute_result"
    }
   ],
   "source": [
    "#using shape to determine the number of records in a selected sample i.e the dimensions of the data frame\n",
    "\n",
    "liberia_records.shape"
   ]
  },
  {
   "cell_type": "code",
   "execution_count": 10,
   "metadata": {},
   "outputs": [
    {
     "data": {
      "text/plain": [
       "Country    31\n",
       "Month      31\n",
       "Year       31\n",
       "Lat        31\n",
       "Lon        31\n",
       "Value      22\n",
       "Rank       22\n",
       "dtype: int64"
      ]
     },
     "execution_count": 10,
     "metadata": {},
     "output_type": "execute_result"
    }
   ],
   "source": [
    "# The number of values occuring across all variables\n",
    "ebola_df.count()"
   ]
  },
  {
   "cell_type": "code",
   "execution_count": 11,
   "metadata": {},
   "outputs": [
    {
     "data": {
      "text/plain": [
       "(0, 7)"
      ]
     },
     "execution_count": 11,
     "metadata": {},
     "output_type": "execute_result"
    }
   ],
   "source": [
    "#finding out if all the values are unique\n",
    "ebola_df[ebola_df.duplicated()].shape"
   ]
  },
  {
   "cell_type": "code",
   "execution_count": 13,
   "metadata": {},
   "outputs": [
    {
     "data": {
      "text/plain": [
       "Value    3978.0\n",
       "dtype: float64"
      ]
     },
     "execution_count": 13,
     "metadata": {},
     "output_type": "execute_result"
    }
   ],
   "source": [
    "# How many ebola cases in Sierra Leone were reported given the ebola dataset?\n",
    "sierra_cases_sum=ebola_df[ebola_df.Country.isin(['Sierra Leone'])][['Value']].sum()\n",
    "sierra_cases_sum"
   ]
  },
  {
   "cell_type": "code",
   "execution_count": 17,
   "metadata": {},
   "outputs": [
    {
     "data": {
      "text/plain": [
       "Country    Guinea\n",
       "Month           3\n",
       "Year           14\n",
       "Lat          6.43\n",
       "Lon        -14.45\n",
       "Value         1.0\n",
       "Rank          1.5\n",
       "dtype: object"
      ]
     },
     "execution_count": 17,
     "metadata": {},
     "output_type": "execute_result"
    }
   ],
   "source": [
    "# the record that has the least number of cases\n",
    "least_cases=ebola_df.min()\n",
    "least_cases\n",
    "\n"
   ]
  },
  {
   "cell_type": "code",
   "execution_count": 16,
   "metadata": {},
   "outputs": [
    {
     "data": {
      "text/plain": [
       "Country    Sierra Leone\n",
       "Month                12\n",
       "Year                 14\n",
       "Lat               17.57\n",
       "Lon                -4.0\n",
       "Value            3362.0\n",
       "Rank               22.0\n",
       "dtype: object"
      ]
     },
     "execution_count": 16,
     "metadata": {},
     "output_type": "execute_result"
    }
   ],
   "source": [
    "# the record that has maximum number of cases\n",
    "highest_cases=ebola_df.max()\n",
    "highest_cases"
   ]
  },
  {
   "cell_type": "code",
   "execution_count": 20,
   "metadata": {},
   "outputs": [
    {
     "data": {
      "text/plain": [
       "795"
      ]
     },
     "execution_count": 20,
     "metadata": {},
     "output_type": "execute_result"
    }
   ],
   "source": [
    "# What was the average number of ebola cases in Sierra Leone?\n",
    "\n",
    "Sierra_mean=ebola_df[ebola_df.Country.isin(['Sierra Leone'])][['Value']].mean()\n",
    "Sierra_mean"
   ]
  },
  {
   "cell_type": "code",
   "execution_count": 24,
   "metadata": {},
   "outputs": [
    {
     "data": {
      "text/plain": [
       "0    Guinea\n",
       "Name: Country, dtype: object"
      ]
     },
     "execution_count": 24,
     "metadata": {},
     "output_type": "execute_result"
    }
   ],
   "source": [
    "#The most frequent value in ebola dataset\n",
    "\n",
    "ebola_mode=ebola_df['Country'].mode()\n",
    "ebola_mode"
   ]
  },
  {
   "cell_type": "code",
   "execution_count": 27,
   "metadata": {},
   "outputs": [
    {
     "data": {
      "text/plain": [
       "265.0"
      ]
     },
     "execution_count": 27,
     "metadata": {},
     "output_type": "execute_result"
    }
   ],
   "source": [
    "ebola_median=ebola_df['Value'].median()\n",
    "ebola_median"
   ]
  }
 ],
 "metadata": {
  "kernelspec": {
   "display_name": "Python 3.9.12 ('base')",
   "language": "python",
   "name": "python3"
  },
  "language_info": {
   "codemirror_mode": {
    "name": "ipython",
    "version": 3
   },
   "file_extension": ".py",
   "mimetype": "text/x-python",
   "name": "python",
   "nbconvert_exporter": "python",
   "pygments_lexer": "ipython3",
   "version": "3.9.12"
  },
  "orig_nbformat": 4,
  "vscode": {
   "interpreter": {
    "hash": "b0110ce229cb207ddb9b0dff5e36830f20fa7483e4a3a6d9ec374c321c26f348"
   }
  }
 },
 "nbformat": 4,
 "nbformat_minor": 2
}
